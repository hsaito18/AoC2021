{
 "cells": [
  {
   "cell_type": "code",
   "execution_count": 68,
   "metadata": {},
   "outputs": [],
   "source": [
    "with open('10a.txt') as f:\n",
    "    lines = f.readlines()\n",
    "\n",
    "lines = [line.strip() for line in lines]"
   ]
  },
  {
   "cell_type": "code",
   "execution_count": 69,
   "metadata": {},
   "outputs": [],
   "source": [
    "chunk_dict = {'(':')', '[':']', '{':'}', '<':'>'}"
   ]
  },
  {
   "cell_type": "markdown",
   "metadata": {},
   "source": [
    "### Part 1"
   ]
  },
  {
   "cell_type": "code",
   "execution_count": 70,
   "metadata": {},
   "outputs": [
    {
     "name": "stdout",
     "output_type": "stream",
     "text": [
      "278475\n"
     ]
    }
   ],
   "source": [
    "points = {')': 3, ']': 57, '}': 1197, '>': 25137}\n",
    "total_points = 0\n",
    "for i in range(len(lines)):\n",
    "    line = lines[i]\n",
    "    currCloser = []\n",
    "    for char in line:\n",
    "        if char == '(' or char == '[' or char == '{' or char == '<':\n",
    "            currCloser.append(chunk_dict.get(char))\n",
    "        elif char == currCloser[-1]:\n",
    "            currCloser.pop()\n",
    "        else: \n",
    "            total_points += points.get(char)\n",
    "            break\n",
    "\n",
    "#29982792 too high\n",
    "\n",
    "print(total_points)"
   ]
  },
  {
   "cell_type": "markdown",
   "metadata": {},
   "source": [
    "### Part 2"
   ]
  },
  {
   "cell_type": "code",
   "execution_count": 71,
   "metadata": {},
   "outputs": [],
   "source": [
    "def discard_corrupted(input_lines):\n",
    "    output_lines = input_lines.copy()\n",
    "    for i in range(len(input_lines)):\n",
    "        line = input_lines[i]\n",
    "        currCloser = []\n",
    "        for char in line:\n",
    "            if char == '(' or char == '[' or char == '{' or char == '<':\n",
    "                currCloser.append(chunk_dict.get(char))\n",
    "            elif char == currCloser[-1]:\n",
    "                currCloser.pop()\n",
    "            else:\n",
    "                output_lines.remove(line)\n",
    "                break\n",
    "    return output_lines"
   ]
  },
  {
   "cell_type": "code",
   "execution_count": 72,
   "metadata": {},
   "outputs": [],
   "source": [
    "part2_lines = discard_corrupted(lines)"
   ]
  },
  {
   "cell_type": "code",
   "execution_count": 73,
   "metadata": {},
   "outputs": [],
   "source": [
    "def incomplete_score(closers):\n",
    "    pts = {')':1, ']':2, '}':3, '>':4}\n",
    "    score = 0\n",
    "    for char in closers:\n",
    "        score *= 5\n",
    "        score += pts.get(char)\n",
    "    return score"
   ]
  },
  {
   "cell_type": "code",
   "execution_count": 74,
   "metadata": {},
   "outputs": [
    {
     "name": "stdout",
     "output_type": "stream",
     "text": [
      "294\n"
     ]
    }
   ],
   "source": [
    "print(incomplete_score([']',')','}','>']))"
   ]
  },
  {
   "cell_type": "code",
   "execution_count": 76,
   "metadata": {},
   "outputs": [
    {
     "name": "stdout",
     "output_type": "stream",
     "text": [
      "3015539998\n"
     ]
    }
   ],
   "source": [
    "scores =[]\n",
    "for i in range(len(part2_lines)):\n",
    "    line = part2_lines[i]\n",
    "    currCloser = []\n",
    "    for char in line:\n",
    "        if char == '(' or char == '[' or char == '{' or char == '<':\n",
    "            currCloser.append(chunk_dict.get(char))\n",
    "        elif char == currCloser[-1]:\n",
    "            currCloser.pop()\n",
    "        else:\n",
    "            print(\"???\")\n",
    "            break\n",
    "    currCloser.reverse()\n",
    "    scores.append(incomplete_score(currCloser))\n",
    "\n",
    "scores.sort()\n",
    "print(scores[int((len(scores)-1)/2)])\n",
    "\n",
    "# 2281932283 too low."
   ]
  }
 ],
 "metadata": {
  "interpreter": {
   "hash": "ac59ebe37160ed0dfa835113d9b8498d9f09ceb179beaac4002f036b9467c963"
  },
  "kernelspec": {
   "display_name": "Python 3.9.6 64-bit",
   "language": "python",
   "name": "python3"
  },
  "language_info": {
   "codemirror_mode": {
    "name": "ipython",
    "version": 3
   },
   "file_extension": ".py",
   "mimetype": "text/x-python",
   "name": "python",
   "nbconvert_exporter": "python",
   "pygments_lexer": "ipython3",
   "version": "3.9.6"
  },
  "orig_nbformat": 4
 },
 "nbformat": 4,
 "nbformat_minor": 2
}
