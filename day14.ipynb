{
 "cells": [
  {
   "cell_type": "code",
   "execution_count": 127,
   "metadata": {},
   "outputs": [],
   "source": [
    "with open('14a.txt') as f:\n",
    "    lines = f.readlines()\n",
    "\n",
    "lines = [line.strip() for line in lines]"
   ]
  },
  {
   "cell_type": "code",
   "execution_count": 128,
   "metadata": {},
   "outputs": [],
   "source": [
    "initial = lines[0]\n",
    "raw_rules = lines[2:]\n",
    "rules = {}\n",
    "for rl in raw_rules:\n",
    "    key = rl[0:2]\n",
    "    val = rl[6]\n",
    "    rules[key] = val"
   ]
  },
  {
   "cell_type": "code",
   "execution_count": 129,
   "metadata": {},
   "outputs": [],
   "source": [
    "def step(template, rules):\n",
    "    insertions = []\n",
    "    for i in range(len(template)-1):\n",
    "        pair = template[i:i+2]\n",
    "        insert = rules[pair]\n",
    "        insertions.append(insert)\n",
    "    result = [None]*(len(template) + len(insertions))\n",
    "    result[::2] = list(template)\n",
    "    result[1::2] = insertions\n",
    "    output = \"\"\n",
    "    return output.join(result)"
   ]
  },
  {
   "cell_type": "code",
   "execution_count": 130,
   "metadata": {},
   "outputs": [],
   "source": [
    "from collections import Counter\n",
    "def most_least_common(input: str) -> int:\n",
    "    res = Counter(input)\n",
    "    _, max_val = res.most_common(1)[0]\n",
    "    __, min_val = res.most_common()[-1]\n",
    "    # print(\"max letter is: \" + str(_))\n",
    "    # print(\"min letter is \" + str(__))\n",
    "    return max_val - min_val"
   ]
  },
  {
   "cell_type": "code",
   "execution_count": 131,
   "metadata": {},
   "outputs": [
    {
     "name": "stdout",
     "output_type": "stream",
     "text": [
      "96380\n"
     ]
    }
   ],
   "source": [
    "stepped = initial\n",
    "answers = []\n",
    "for i in range(15):\n",
    "    # print(i)\n",
    "    stepped = step(stepped, rules)\n",
    "    answers.append(most_least_common(stepped))\n",
    "print(most_least_common(stepped))"
   ]
  },
  {
   "cell_type": "code",
   "execution_count": 132,
   "metadata": {},
   "outputs": [],
   "source": [
    "# ok so the idea is actually to just keep track of all the pairs\n",
    "pairs = {}\n",
    "for rl in raw_rules:\n",
    "    pair = rl[0:2]\n",
    "    pairs[pair] = 0\n",
    "\n",
    "for i in range(1,len(initial)):\n",
    "    pair = str(initial[i-1] + initial[i])\n",
    "    pairs[pair] += 1"
   ]
  },
  {
   "cell_type": "code",
   "execution_count": 133,
   "metadata": {},
   "outputs": [],
   "source": [
    "\n",
    "def improved_insert(pair: str, rules: dict) -> tuple:\n",
    "    insert_letter = rules[pair]\n",
    "    return (str(pair[0] + insert_letter), str(insert_letter + pair[1]))"
   ]
  },
  {
   "cell_type": "code",
   "execution_count": 134,
   "metadata": {},
   "outputs": [],
   "source": [
    "def improved_step(pair_dict, rules):\n",
    "    output_pairs = pair_dict.copy()\n",
    "    for pair in pair_dict:\n",
    "        pair1, pair2 = improved_insert(pair, rules)\n",
    "        output_pairs[pair1] += pair_dict[pair]\n",
    "        output_pairs[pair2] += pair_dict[pair]\n",
    "        output_pairs[pair] -= pair_dict[pair]\n",
    "    return output_pairs\n",
    "        "
   ]
  },
  {
   "cell_type": "code",
   "execution_count": 135,
   "metadata": {},
   "outputs": [],
   "source": [
    "stepped_pairs = pairs.copy()\n",
    "for i in range(40):\n",
    "    stepped_pairs = improved_step(stepped_pairs, rules)"
   ]
  },
  {
   "cell_type": "code",
   "execution_count": 136,
   "metadata": {},
   "outputs": [],
   "source": [
    "def count_letters(pairs):\n",
    "    __letters__ = \"ABCDEFGHIJKLMNOPQRSTUVWXYZ\"\n",
    "    letter_count = {}\n",
    "\n",
    "    for l in __letters__:\n",
    "        letter_count[l] = 0\n",
    "\n",
    "    for pair in pairs:\n",
    "        # if 'H' in pair:\n",
    "        #     print(pairs[pair])\n",
    "        letter_count[pair[0]] += pairs[pair]\n",
    "        letter_count[pair[1]] += pairs[pair]\n",
    "    \n",
    "    delete = [key for key in letter_count if letter_count[key] == 0]\n",
    "    for key in delete: del letter_count[key]\n",
    "        \n",
    "    return letter_count"
   ]
  },
  {
   "cell_type": "code",
   "execution_count": 137,
   "metadata": {},
   "outputs": [],
   "source": [
    "def most_least_common2(pairs):\n",
    "    l_count = count_letters(pairs)\n",
    "    maxVal = l_count[max(l_count, key=l_count.get)]\n",
    "    minVal = l_count[min(l_count, key=l_count.get)]\n",
    "    return (maxVal - minVal - 1)/2"
   ]
  },
  {
   "cell_type": "code",
   "execution_count": 138,
   "metadata": {},
   "outputs": [
    {
     "name": "stdout",
     "output_type": "stream",
     "text": [
      "3816397135460.0\n"
     ]
    }
   ],
   "source": [
    "print(most_least_common2(stepped_pairs))"
   ]
  }
 ],
 "metadata": {
  "interpreter": {
   "hash": "48d886a7be0336b47a9b7a5d2716309b3988e3ea5b332e1ebf7779a59bea412f"
  },
  "kernelspec": {
   "display_name": "Python 3.9.9 64-bit",
   "language": "python",
   "name": "python3"
  },
  "language_info": {
   "codemirror_mode": {
    "name": "ipython",
    "version": 3
   },
   "file_extension": ".py",
   "mimetype": "text/x-python",
   "name": "python",
   "nbconvert_exporter": "python",
   "pygments_lexer": "ipython3",
   "version": "3.8.9"
  },
  "orig_nbformat": 4
 },
 "nbformat": 4,
 "nbformat_minor": 2
}
