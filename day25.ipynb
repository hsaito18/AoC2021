{
 "cells": [
  {
   "cell_type": "code",
   "execution_count": 129,
   "metadata": {},
   "outputs": [],
   "source": [
    "with open('25a.txt') as f:\n",
    "    lines = f.readlines()\n",
    "lines = [line.strip() for line in lines]"
   ]
  },
  {
   "cell_type": "code",
   "execution_count": 130,
   "metadata": {},
   "outputs": [],
   "source": [
    "from typing import List"
   ]
  },
  {
   "cell_type": "code",
   "execution_count": 131,
   "metadata": {},
   "outputs": [],
   "source": [
    "NUM_ROWS = len(lines)\n",
    "NUM_COLS = len(lines[0])"
   ]
  },
  {
   "cell_type": "code",
   "execution_count": 132,
   "metadata": {},
   "outputs": [],
   "source": [
    "grid = []\n",
    "\n",
    "for line in lines:\n",
    "    grid.append(list(line))"
   ]
  },
  {
   "cell_type": "code",
   "execution_count": 133,
   "metadata": {},
   "outputs": [],
   "source": [
    "# mutates grid_in\n",
    "def step(grid_in: List) -> bool:\n",
    "    moved = False\n",
    "    east_movers = []\n",
    "    for r in range(len(grid_in)):\n",
    "        for c in range(len(grid_in[r])):\n",
    "            if grid_in[r][c] == '>':\n",
    "                if c == NUM_COLS - 1:\n",
    "                    if grid_in[r][0] == '.':\n",
    "                        east_movers.append((r,c,0))\n",
    "                elif grid_in[r][c+1] == '.':\n",
    "                    east_movers.append((r,c,c+1))\n",
    "    for e_move in east_movers:\n",
    "        grid_in[e_move[0]][e_move[1]] = '.'\n",
    "        grid_in[e_move[0]][e_move[2]] = '>'\n",
    "    south_movers = []\n",
    "    for r in range(len(grid_in)):\n",
    "        for c in range(len(grid_in[r])):\n",
    "            if grid_in[r][c] == 'v':\n",
    "                if r == NUM_ROWS - 1:\n",
    "                    if grid_in[0][c] == '.':\n",
    "                        south_movers.append((r,c,0))\n",
    "                elif grid_in[r+1][c] == '.':\n",
    "                    south_movers.append((r,c,r+1))\n",
    "    for s_move in south_movers:\n",
    "        grid_in[s_move[0]][s_move[1]] = '.'\n",
    "        grid_in[s_move[2]][s_move[1]] = 'v'\n",
    "    \n",
    "    if len(east_movers) > 0 or len(south_movers) > 0: moved = True\n",
    "    return moved"
   ]
  },
  {
   "cell_type": "code",
   "execution_count": 134,
   "metadata": {},
   "outputs": [],
   "source": [
    "counter = 0\n",
    "finished = False\n",
    "while not finished:\n",
    "    finished = not(step(grid))\n",
    "    counter += 1"
   ]
  },
  {
   "cell_type": "code",
   "execution_count": 135,
   "metadata": {},
   "outputs": [
    {
     "data": {
      "text/plain": [
       "351"
      ]
     },
     "execution_count": 135,
     "metadata": {},
     "output_type": "execute_result"
    }
   ],
   "source": [
    "counter"
   ]
  }
 ],
 "metadata": {
  "kernelspec": {
   "display_name": "Python 3.9.6 64-bit",
   "language": "python",
   "name": "python3"
  },
  "language_info": {
   "codemirror_mode": {
    "name": "ipython",
    "version": 3
   },
   "file_extension": ".py",
   "mimetype": "text/x-python",
   "name": "python",
   "nbconvert_exporter": "python",
   "pygments_lexer": "ipython3",
   "version": "3.9.6"
  },
  "orig_nbformat": 4,
  "vscode": {
   "interpreter": {
    "hash": "11938c6bc6919ae2720b4d5011047913343b08a43b18698fd82dedb0d4417594"
   }
  }
 },
 "nbformat": 4,
 "nbformat_minor": 2
}
