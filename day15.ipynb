{
 "cells": [
  {
   "cell_type": "code",
   "execution_count": 109,
   "metadata": {},
   "outputs": [],
   "source": [
    "with open('15a.txt') as f:\n",
    "    lines = f.readlines()\n",
    "\n",
    "lines = [line.strip() for line in lines]"
   ]
  },
  {
   "cell_type": "code",
   "execution_count": 110,
   "metadata": {},
   "outputs": [],
   "source": [
    "import numpy as np\n",
    "grid = np.zeros((len(lines),len(lines[0])))\n",
    "for i in range(len(lines)):\n",
    "    for j in range(len(lines[i])):\n",
    "        grid[i][j] = lines[i][j]"
   ]
  },
  {
   "cell_type": "markdown",
   "metadata": {},
   "source": [
    "### Part 1"
   ]
  },
  {
   "cell_type": "code",
   "execution_count": 111,
   "metadata": {},
   "outputs": [],
   "source": [
    "# could literally try every path and track the total risk level, then compare. naive method\n",
    "# there's no situation in going on an already traversed number is good."
   ]
  },
  {
   "cell_type": "code",
   "execution_count": 112,
   "metadata": {},
   "outputs": [],
   "source": [
    "# failed attempt to just traverse the whole thing recursively. not part of final solution.\n",
    "def traverse(grid, row, col, visited):\n",
    "    new_visited = visited.copy()\n",
    "    # print(len(visited))\n",
    "    new_sum = grid[row][col]\n",
    "    path_vals = []\n",
    "    if row == len(grid)-1 and col == len(grid[0])-1:\n",
    "        return new_sum\n",
    "    to_traverse = []\n",
    "    for r in range(row-1,row+2):\n",
    "        if r >= 0 and r < len(grid):\n",
    "            for c in range(col-1, col+2):\n",
    "                if c >= 0 and c < len(grid[r]):\n",
    "                    if (r == row or c == col) and (r != row or c != col) and (not (r,c) in visited):\n",
    "                        # print(\"row: \" + str(r))\n",
    "                        # print(\"col: \" + str(c))\n",
    "                        new_visited.append((r,c))\n",
    "                        to_traverse.append((r,c))\n",
    "    print(\"(\" + str(row) + \",\" + str(col) + \") # of traverse: \" + str(len(to_traverse)))\n",
    "    for coords in to_traverse:\n",
    "        path_vals.append(new_sum + traverse(grid,coords[0],coords[1],new_visited))\n",
    "    if len(to_traverse) == 0:\n",
    "        return 999999\n",
    "    return min(path_vals)\n"
   ]
  },
  {
   "cell_type": "code",
   "execution_count": 113,
   "metadata": {},
   "outputs": [],
   "source": [
    "def find_best_unvisited(unvisited, best_path_to_origin):\n",
    "    min_risk = best_path_to_origin[unvisited[0]]\n",
    "    best_unvisited = unvisited[0]\n",
    "    for coord in unvisited:\n",
    "        if best_path_to_origin[coord] < min_risk:\n",
    "            min_risk = best_path_to_origin[coord]\n",
    "            best_unvisited = coord\n",
    "    return best_unvisited"
   ]
  },
  {
   "cell_type": "code",
   "execution_count": 130,
   "metadata": {},
   "outputs": [],
   "source": [
    "## ok we gonna do some dijkstra algo\n",
    "def least_risk_path(grid):\n",
    "    unvisited = []\n",
    "    best_path_to_origin = {}\n",
    "    path_to_best = {}\n",
    "    for row in range(len(grid)):\n",
    "        for col in range(len(grid[row])):\n",
    "            best_path_to_origin[(row,col)] = float('inf')\n",
    "            unvisited.append((row,col))\n",
    "            path_to_best[(row,col)] = (0,0)\n",
    "    best_path_to_origin[(0,0)] = 0\n",
    "    curr_coord = (0,0)\n",
    "    while(len(unvisited) > 1):\n",
    "        row = curr_coord[0]\n",
    "        col = curr_coord[1]\n",
    "        neighbours = []\n",
    "        for r in range(row-1,row+2):\n",
    "                if r >= 0 and r < len(grid):\n",
    "                    for c in range(col-1, col+2):\n",
    "                        if c >= 0 and c < len(grid[r]):\n",
    "                            if (r == row or c == col) and (r != row or c != col) and ((r,c) in unvisited):\n",
    "                                neighbours.append((r,c))\n",
    "        for nb in neighbours:\n",
    "            curr_risk = grid[nb] + best_path_to_origin[(row,col)]\n",
    "            if curr_risk < best_path_to_origin[nb]:\n",
    "                best_path_to_origin[nb] = curr_risk\n",
    "                path_to_best[nb] = (row,col)\n",
    "        unvisited.remove((row,col))\n",
    "        curr_coord = find_best_unvisited(unvisited, best_path_to_origin)\n",
    "        # print(1 - len(unvisited)/(500*500.0))\n",
    "    temp = (len(grid)-1, len(grid)-1)\n",
    "    while (temp != (0,0)):\n",
    "        new_temp = path_to_best[temp]\n",
    "        if new_temp[0] - temp[0] == 1:\n",
    "            print(\"went up lol\")\n",
    "        elif new_temp[1] - temp[1] == 1:\n",
    "            print(\"went left lol\")\n",
    "        temp = new_temp\n",
    "    return best_path_to_origin[(len(grid)-1,len(grid[0])-1)]"
   ]
  },
  {
   "cell_type": "code",
   "execution_count": 131,
   "metadata": {},
   "outputs": [
    {
     "name": "stdout",
     "output_type": "stream",
     "text": [
      "went left lol\n",
      "619.0\n"
     ]
    }
   ],
   "source": [
    "print(least_risk_path(grid))"
   ]
  },
  {
   "cell_type": "markdown",
   "metadata": {},
   "source": [
    "### Part 2"
   ]
  },
  {
   "cell_type": "code",
   "execution_count": 116,
   "metadata": {},
   "outputs": [],
   "source": [
    "def calculate_grid2_val (old_grid_val, i, j):\n",
    "    num = old_grid_val + i + j\n",
    "    if num >= 10: num -= 9\n",
    "    return num"
   ]
  },
  {
   "cell_type": "code",
   "execution_count": 117,
   "metadata": {},
   "outputs": [],
   "source": [
    "grid2 = np.zeros((len(grid)* 5, len(grid[0])*5))\n",
    "for i in range(0,5):\n",
    "    for j in range(0,5):\n",
    "        for row in range(len(grid)):\n",
    "            for col in range(len(grid[row])):\n",
    "                new_row = row + len(grid) * i\n",
    "                new_col = col + len(grid[row]) * j\n",
    "                grid2[new_row][new_col] = calculate_grid2_val(grid[row][col], i, j)"
   ]
  },
  {
   "cell_type": "code",
   "execution_count": 118,
   "metadata": {},
   "outputs": [],
   "source": [
    "## ok we gonna do some dijkstra algo\n",
    "def least_risk_path(grid):\n",
    "    unvisited = []\n",
    "    best_path_to_origin = {}\n",
    "    path_to_best = {}\n",
    "    length_path_to_best = {}\n",
    "    for row in range(len(grid)):\n",
    "        for col in range(len(grid[row])):\n",
    "            best_path_to_origin[(row,col)] = float('inf')\n",
    "            unvisited.append((row,col))\n",
    "            path_to_best[(row,col)] = (0,0)\n",
    "            length_path_to_best[(row,col)] = 0\n",
    "    best_path_to_origin[(0,0)] = 0\n",
    "    curr_coord = (0,0)\n",
    "    while(len(unvisited) > 1):\n",
    "        row = curr_coord[0]\n",
    "        col = curr_coord[1]\n",
    "        neighbours = []\n",
    "        for r in range(row-1,row+2):\n",
    "                if r >= 0 and r < len(grid):\n",
    "                    for c in range(col-1, col+2):\n",
    "                        if c >= 0 and c < len(grid[r]):\n",
    "                            if (r == row or c == col) and (r != row or c != col) and ((r,c) in unvisited):\n",
    "                                neighbours.append((r,c))\n",
    "        for nb in neighbours:\n",
    "            curr_risk = grid[nb] + best_path_to_origin[(row,col)]\n",
    "            if curr_risk < best_path_to_origin[nb]:\n",
    "                best_path_to_origin[nb] = curr_risk\n",
    "                path_to_best[nb] = (row,col)\n",
    "        unvisited.remove((row,col))\n",
    "        curr_coord = find_best_unvisited(unvisited, best_path_to_origin)\n",
    "        print(1 - len(unvisited)/(500*500.0))\n",
    "        # figure out how to find length of best path, try all entries and exits. shouldnt be that bad??\n"
   ]
  },
  {
   "cell_type": "code",
   "execution_count": 119,
   "metadata": {},
   "outputs": [],
   "source": [
    "def marcos_algorithm(grid):\n",
    "    risk_to_end = np.zeros((len(grid), len(grid[0])))\n",
    "    for row in range(len(grid)-1, -1, -1):\n",
    "        for col in range(len(grid[row])-1, -1, -1):\n",
    "            down = float('inf')\n",
    "            right = float('inf')\n",
    "            if row+1 < len(grid):\n",
    "                down = risk_to_end[row+1][col]\n",
    "            if col+1 < len(grid[0]):\n",
    "                right = risk_to_end[row][col+1]\n",
    "            if (down == float('inf') and right == float('inf')): down = 0\n",
    "            risk_to_end[row][col] = grid[row][col] + min(down, right)\n",
    "    # return risk_to_end[0][0] - grid[0][0]\n",
    "    return risk_to_end"
   ]
  },
  {
   "cell_type": "code",
   "execution_count": 142,
   "metadata": {},
   "outputs": [],
   "source": [
    "def improved_marcos_algorithm(grid, risk_grid):\n",
    "    risk_to_end = np.zeros((len(grid), len(grid[0])))\n",
    "    for row in range(len(grid)-1, -1, -1):\n",
    "        for col in range(len(grid[row])-1, -1, -1):\n",
    "            down = float('inf')\n",
    "            right = float('inf')\n",
    "            left = float('inf')\n",
    "            up = float('inf')\n",
    "            if row+1 < len(grid):\n",
    "                down = risk_to_end[row+1][col]\n",
    "            if col+1 < len(grid[0]):\n",
    "                right = risk_to_end[row][col+1]\n",
    "            if row-1 > 0:\n",
    "                up = risk_grid[row-1][col]\n",
    "            if col-1 > 0:\n",
    "                left = risk_grid[row][col-1]\n",
    "            if (down == float('inf') and right == float('inf')): down = 0\n",
    "            risk_to_end[row][col] = grid[row][col] + min(down, right, left, up)\n",
    "    # return risk_to_end[0][0] - grid[0][0]\n",
    "    return risk_to_end"
   ]
  },
  {
   "cell_type": "code",
   "execution_count": 152,
   "metadata": {},
   "outputs": [
    {
     "name": "stdout",
     "output_type": "stream",
     "text": [
      "[[2926. 2924. 2923. ... 2160. 2161. 2167.]\n",
      " [2922. 2921. 2914. ... 2159. 2164. 2165.]\n",
      " [2922. 2919. 2913. ... 2156. 2157. 2166.]\n",
      " ...\n",
      " [2163. 2158. 2156. ...   30.   22.   21.]\n",
      " [2171. 2167. 2163. ...   21.   15.   13.]\n",
      " [2173. 2168. 2164. ...   13.   10.    6.]]\n"
     ]
    }
   ],
   "source": [
    "rte = marcos_algorithm(grid2)\n",
    "rte2 = improved_marcos_algorithm(grid2, rte)\n",
    "rte3 = improved_marcos_algorithm(grid2, rte2)\n",
    "rte4 = improved_marcos_algorithm(grid2, rte3)\n",
    "for i in range(35):\n",
    "    rte4 = improved_marcos_algorithm(grid2, rte4)\n",
    "print(rte4)\n",
    "# 1789 too low.\n",
    "# 2926 too high."
   ]
  },
  {
   "cell_type": "code",
   "execution_count": null,
   "metadata": {},
   "outputs": [],
   "source": []
  }
 ],
 "metadata": {
  "interpreter": {
   "hash": "31f2aee4e71d21fbe5cf8b01ff0e069b9275f58929596ceb00d14d90e3e16cd6"
  },
  "kernelspec": {
   "display_name": "Python 3.8.9 64-bit",
   "language": "python",
   "name": "python3"
  },
  "language_info": {
   "codemirror_mode": {
    "name": "ipython",
    "version": 3
   },
   "file_extension": ".py",
   "mimetype": "text/x-python",
   "name": "python",
   "nbconvert_exporter": "python",
   "pygments_lexer": "ipython3",
   "version": "3.8.9"
  },
  "orig_nbformat": 4
 },
 "nbformat": 4,
 "nbformat_minor": 2
}
