{
 "cells": [
  {
   "cell_type": "code",
   "execution_count": 442,
   "metadata": {},
   "outputs": [],
   "source": [
    "with open('22a.txt') as f:\n",
    "    lines = f.readlines()\n",
    "\n",
    "lines = [line.strip() for line in lines]\n",
    "lines = [line for line in lines if len(line) > 2]"
   ]
  },
  {
   "cell_type": "code",
   "execution_count": 443,
   "metadata": {},
   "outputs": [],
   "source": [
    "import re\n",
    "from typing import Tuple"
   ]
  },
  {
   "cell_type": "code",
   "execution_count": 444,
   "metadata": {},
   "outputs": [],
   "source": [
    "class Command:\n",
    "\n",
    "    def __init__(self, line=None, coords=None):\n",
    "        if line != None:\n",
    "            self.line = line\n",
    "            self.on = 1 if line[1] == 'n' else 0\n",
    "            splitted = re.split('=|,|\\.', line)\n",
    "            self.off_x_min, self.off_x_max, self.off_y_min, self.off_y_max, self.off_z_min, self.off_z_max = (-100000,-100000,-100000,-100000,-100000,-100000)\n",
    "            self.x_min = int(splitted[1])\n",
    "            self.x_max = int(splitted[3])\n",
    "            self.y_min = int(splitted[5])\n",
    "            self.y_max = int(splitted[7])\n",
    "            self.z_min = int(splitted[9])\n",
    "            self.z_max = int(splitted[11])\n",
    "        elif coords != None:\n",
    "            self.x_min, self.x_max, self.y_min, self.y_max, self.z_min, self.z_max, self.on = coords\n",
    "    \n",
    "        self.volume = abs(self.x_max + 1 - self.x_min) * abs(self.y_max + 1 - self.y_min) * abs(self.z_max + 1 - self.z_min)\n",
    "        self.inner = True\n",
    "        if self.x_min < -50 or self.x_max > 50 or self.y_min < -50 or self.y_max > 50 or self.z_min < -50 or self.z_max > 50:\n",
    "            self.inner = False\n",
    "         \n",
    "    def __str__(self):\n",
    "        return self.line\n",
    "\n",
    "    def overlap(self, other_list):\n",
    "        \n",
    "        counter = 0\n",
    "        new_list = []\n",
    "        for other in other_list:\n",
    "            x_ovl = self.x_max >= other.x_min and other.x_max >= self.x_min\n",
    "            y_ovl = self.y_max >= other.y_min and other.y_max >= self.y_min\n",
    "            z_ovl = self.z_max >= other.z_min and other.z_max >= self.z_min\n",
    "            ovl = x_ovl and y_ovl and z_ovl\n",
    "            if ovl:\n",
    "                if other.on:\n",
    "                    off_x_min = max(self.x_min, other.x_min)\n",
    "                    off_x_max = min(self.x_max, other.x_max)\n",
    "                    off_y_min = max(self.y_min, other.y_min)\n",
    "                    off_y_max = min(self.y_max, other.y_max)\n",
    "                    off_z_min = max(self.z_min, other.z_min)\n",
    "                    off_z_max = min(self.z_max, other.z_max)\n",
    "                    off_zone = Command(None, (off_x_min,off_x_max,off_y_min,off_y_max,off_z_min,off_z_max,0))\n",
    "                    new_list.append(off_zone)\n",
    "                    counter -= off_zone.volume\n",
    "                else:\n",
    "                    if self.on: \n",
    "                        off_x_min = max(self.x_min, other.x_min)\n",
    "                        off_x_max = min(self.x_max, other.x_max)\n",
    "                        off_y_min = max(self.y_min, other.y_min)\n",
    "                        off_y_max = min(self.y_max, other.y_max)\n",
    "                        off_z_min = max(self.z_min, other.z_min)\n",
    "                        off_z_max = min(self.z_max, other.z_max)\n",
    "                        off_zone = Command(None, (off_x_min,off_x_max,off_y_min,off_y_max,off_z_min,off_z_max,1))\n",
    "                        new_list.append(off_zone)\n",
    "                        counter += off_zone.volume\n",
    "                    else:\n",
    "                        on_x_min = max(self.x_min, other.x_min)\n",
    "                        on_x_max = min(self.x_max, other.x_max)\n",
    "                        on_y_min = max(self.y_min, other.y_min)\n",
    "                        on_y_max = min(self.y_max, other.y_max)\n",
    "                        on_z_min = max(self.z_min, other.z_min)\n",
    "                        on_z_max = min(self.z_max, other.z_max)\n",
    "                        on_zone = Command(None, (on_x_min,on_x_max,on_y_min,on_y_max,on_z_min,on_z_max,1))\n",
    "                        new_list.append(on_zone)\n",
    "                        counter += on_zone.volume\n",
    "        if self.on: \n",
    "            new_list.append(self)\n",
    "            counter += self.volume\n",
    "        return counter, other_list + new_list\n",
    "        \n"
   ]
  },
  {
   "cell_type": "code",
   "execution_count": 445,
   "metadata": {},
   "outputs": [],
   "source": [
    "commands = [Command(line) for line in lines]\n",
    "inner_commands = [cmd for cmd in commands if cmd.inner]"
   ]
  },
  {
   "cell_type": "code",
   "execution_count": 446,
   "metadata": {},
   "outputs": [],
   "source": [
    "def coordinate_shifter(row: int, col: int, dep: int) -> Tuple[int, int, int]:\n",
    "    return (row + 50, col + 50, dep + 50)"
   ]
  },
  {
   "cell_type": "code",
   "execution_count": 447,
   "metadata": {},
   "outputs": [],
   "source": [
    "init_size = 50\n",
    "size = init_size * 2 + 1"
   ]
  },
  {
   "cell_type": "code",
   "execution_count": 448,
   "metadata": {},
   "outputs": [],
   "source": [
    "cube = [[[0 for k in range(size)] for j in range(size)] for i in range(size)]"
   ]
  },
  {
   "cell_type": "code",
   "execution_count": 449,
   "metadata": {},
   "outputs": [],
   "source": [
    "for cmd in inner_commands:\n",
    "    for x in range(cmd.x_min, cmd.x_max + 1):\n",
    "        for y in range(cmd.y_min, cmd.y_max + 1):\n",
    "            for z in range(cmd.z_min, cmd.z_max + 1):\n",
    "                cube[x][y][z] = cmd.on"
   ]
  },
  {
   "cell_type": "code",
   "execution_count": 450,
   "metadata": {},
   "outputs": [],
   "source": [
    "def count_on(cube) -> int:\n",
    "    counter = 0\n",
    "    size = len(cube)\n",
    "    for i in range(size):\n",
    "        for j in range(size):\n",
    "            for k in range(size):\n",
    "                counter += cube[i][j][k]\n",
    "    return counter"
   ]
  },
  {
   "cell_type": "code",
   "execution_count": 451,
   "metadata": {},
   "outputs": [
    {
     "name": "stdout",
     "output_type": "stream",
     "text": [
      "650099\n"
     ]
    }
   ],
   "source": [
    "print(count_on(cube))"
   ]
  },
  {
   "cell_type": "markdown",
   "metadata": {},
   "source": [
    "### Part 2"
   ]
  },
  {
   "cell_type": "code",
   "execution_count": 452,
   "metadata": {},
   "outputs": [
    {
     "name": "stdout",
     "output_type": "stream",
     "text": [
      "1254011191104293\n"
     ]
    }
   ],
   "source": [
    "on_counter = 0\n",
    "ls = []\n",
    "for cmd in commands:\n",
    "    curr, ls = cmd.overlap(ls)\n",
    "    on_counter += curr\n",
    "print(on_counter)"
   ]
  }
 ],
 "metadata": {
  "interpreter": {
   "hash": "aee8b7b246df8f9039afb4144a1f6fd8d2ca17a180786b69acc140d282b71a49"
  },
  "kernelspec": {
   "display_name": "Python 3.10.1 64-bit",
   "language": "python",
   "name": "python3"
  },
  "language_info": {
   "codemirror_mode": {
    "name": "ipython",
    "version": 3
   },
   "file_extension": ".py",
   "mimetype": "text/x-python",
   "name": "python",
   "nbconvert_exporter": "python",
   "pygments_lexer": "ipython3",
   "version": "3.10.1"
  },
  "orig_nbformat": 4
 },
 "nbformat": 4,
 "nbformat_minor": 2
}
