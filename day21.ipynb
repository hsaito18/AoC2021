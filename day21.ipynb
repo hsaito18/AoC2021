{
 "cells": [
  {
   "cell_type": "code",
   "execution_count": 91,
   "metadata": {},
   "outputs": [],
   "source": [
    "with open('21a.txt') as f:\n",
    "    lines = f.readlines()\n",
    "\n",
    "lines = [line.strip() for line in lines]"
   ]
  },
  {
   "cell_type": "code",
   "execution_count": 92,
   "metadata": {},
   "outputs": [],
   "source": [
    "import itertools\n",
    "from functools import cache"
   ]
  },
  {
   "cell_type": "code",
   "execution_count": 93,
   "metadata": {},
   "outputs": [],
   "source": [
    "p1_init = int(lines[0][-1])\n",
    "p2_init = int(lines[1][-1])"
   ]
  },
  {
   "cell_type": "markdown",
   "metadata": {},
   "source": [
    "### Part 1"
   ]
  },
  {
   "cell_type": "code",
   "execution_count": 94,
   "metadata": {},
   "outputs": [],
   "source": [
    "def deterministic_dice(turn: int):\n",
    "    return 6 + 9 * turn"
   ]
  },
  {
   "cell_type": "code",
   "execution_count": 95,
   "metadata": {},
   "outputs": [
    {
     "data": {
      "text/plain": [
       "798147"
      ]
     },
     "execution_count": 95,
     "metadata": {},
     "output_type": "execute_result"
    }
   ],
   "source": [
    "turn = 0\n",
    "play = 1\n",
    "p1_pos = p1_init\n",
    "p2_pos = p2_init\n",
    "p1_score = 0\n",
    "p2_score = 0\n",
    "while p1_score < 1000 and p2_score < 1000:\n",
    "    if play == 1:\n",
    "        p1_pos += deterministic_dice(turn)\n",
    "        p1_pos = p1_pos % 10\n",
    "        if p1_pos == 0: p1_pos = 10\n",
    "        p1_score += p1_pos\n",
    "        turn += 1\n",
    "        play = 2\n",
    "    elif play == 2:\n",
    "        p2_pos += deterministic_dice(turn)\n",
    "        p2_pos = p2_pos % 10\n",
    "        if p2_pos == 0: p2_pos = 10\n",
    "        p2_score += p2_pos\n",
    "        turn += 1\n",
    "        play = 1\n",
    "\n",
    "p2_score * turn * 3\n",
    "# 266049 too low"
   ]
  },
  {
   "cell_type": "markdown",
   "metadata": {},
   "source": [
    "### Part 2"
   ]
  },
  {
   "cell_type": "code",
   "execution_count": 96,
   "metadata": {},
   "outputs": [],
   "source": [
    "def position_tracker(start_pos, increment):\n",
    "    final_pos = (start_pos + increment) % 10\n",
    "    if final_pos == 0: final_pos = 10\n",
    "    return final_pos"
   ]
  },
  {
   "cell_type": "code",
   "execution_count": 97,
   "metadata": {},
   "outputs": [],
   "source": [
    "rolls = [sum(x) for x in itertools.product([1, 2, 3], repeat=3)]"
   ]
  },
  {
   "cell_type": "code",
   "execution_count": 98,
   "metadata": {},
   "outputs": [],
   "source": [
    "@cache\n",
    "def chances(p1_pos: int, p2_pos: int, play: int, p1_score: int, p2_score: int):\n",
    "    # what are the chances that this player can end on this turn?\n",
    "    if play == 1:\n",
    "        p1_wins = 0\n",
    "        p2_wins = 0\n",
    "        for i in range(len(rolls)):\n",
    "            p1_new_pos = position_tracker(p1_pos, rolls[i])\n",
    "            p1_new_score = p1_score + p1_new_pos\n",
    "            p1_universes = 1 if p1_new_score >= 21 else chances(p1_new_pos, p2_pos, 2, p1_new_score, p2_score)[0]\n",
    "            p2_universes = 0 if p1_new_score >= 21 else chances(p1_new_pos, p2_pos, 2, p1_new_score, p2_score)[1]\n",
    "            p1_wins += p1_universes\n",
    "            p2_wins += p2_universes\n",
    "    \n",
    "        return p1_wins, p2_wins\n",
    "    \n",
    "    elif play == 2:\n",
    "        p1_wins = 0\n",
    "        p2_wins = 0\n",
    "        for i in range(len(rolls)):\n",
    "            p1_new_pos = position_tracker(p2_pos, rolls[i])\n",
    "            p1_new_score = p2_score + p1_new_pos\n",
    "            p1_universes = 0 if p1_new_score >= 21 else chances(p1_pos, p1_new_pos, 1, p1_score, p1_new_score)[0]\n",
    "            p2_universes = 1 if p1_new_score >= 21 else chances(p1_pos, p1_new_pos, 1, p1_score, p1_new_score)[1]\n",
    "            p1_wins += p1_universes\n",
    "            p2_wins += p2_universes\n",
    "    \n",
    "        return p1_wins, p2_wins\n"
   ]
  },
  {
   "cell_type": "code",
   "execution_count": 99,
   "metadata": {},
   "outputs": [
    {
     "name": "stdout",
     "output_type": "stream",
     "text": [
      "(809953813657517, 524412223918770)\n"
     ]
    }
   ],
   "source": [
    "print(chances(7,5,1,0,0))"
   ]
  },
  {
   "cell_type": "code",
   "execution_count": 100,
   "metadata": {},
   "outputs": [
    {
     "data": {
      "text/plain": [
       "True"
      ]
     },
     "execution_count": 100,
     "metadata": {},
     "output_type": "execute_result"
    }
   ],
   "source": [
    "809953813657517 > 524412223918770"
   ]
  }
 ],
 "metadata": {
  "interpreter": {
   "hash": "31f2aee4e71d21fbe5cf8b01ff0e069b9275f58929596ceb00d14d90e3e16cd6"
  },
  "kernelspec": {
   "display_name": "Python 3.8.9 64-bit",
   "language": "python",
   "name": "python3"
  },
  "language_info": {
   "codemirror_mode": {
    "name": "ipython",
    "version": 3
   },
   "file_extension": ".py",
   "mimetype": "text/x-python",
   "name": "python",
   "nbconvert_exporter": "python",
   "pygments_lexer": "ipython3",
   "version": "3.10.1"
  },
  "orig_nbformat": 4
 },
 "nbformat": 4,
 "nbformat_minor": 2
}
