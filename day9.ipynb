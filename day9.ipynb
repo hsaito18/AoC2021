{
 "cells": [
  {
   "cell_type": "code",
   "execution_count": 113,
   "metadata": {},
   "outputs": [],
   "source": [
    "with open('9a.txt') as f:\n",
    "    lines = f.readlines()\n",
    "\n",
    "lines = [line.strip() for line in lines]"
   ]
  },
  {
   "cell_type": "code",
   "execution_count": 112,
   "metadata": {},
   "outputs": [],
   "source": [
    "# shape in to 2D array\n",
    "import numpy as np\n",
    "grid = np.zeros((len(lines), len(lines[0])))\n",
    "for i in range(len(lines)):\n",
    "    grid[i] = [num for num in lines[i]]\n"
   ]
  },
  {
   "cell_type": "markdown",
   "metadata": {},
   "source": [
    "### Part 1"
   ]
  },
  {
   "cell_type": "code",
   "execution_count": 80,
   "metadata": {},
   "outputs": [
    {
     "name": "stdout",
     "output_type": "stream",
     "text": [
      "514.0\n",
      "224\n"
     ]
    }
   ],
   "source": [
    "final_sum = 0\n",
    "cnt = 0\n",
    "# jesus christ this is the worst thing i've ever written in my life\n",
    "for row in range(len(grid)):\n",
    "    for col in range(len(grid[row])):\n",
    "        low = True\n",
    "        currVal = grid[row][col]\n",
    "        if row == 0:\n",
    "            if col == 0:\n",
    "                if grid[row+1][col] <= currVal or grid[row][col+1] <= currVal: low = False\n",
    "            elif col == len(grid[row])-1:\n",
    "                if grid[row+1][col] <= currVal or grid[row][col-1] <= currVal: low = False\n",
    "            else:\n",
    "                if grid[row+1][col] <= currVal or grid[row][col-1] <= currVal or grid[row][col+1] <= currVal: low = False\n",
    "        elif row == len(grid)-1:\n",
    "            if col == 0:\n",
    "                if grid[row-1][col] <= currVal or grid[row][col+1] <= currVal: low = False\n",
    "            elif col == len(grid[row])-1:\n",
    "                if grid[row-1][col] <= currVal or grid[row][col-1] <= currVal: low = False\n",
    "            else:\n",
    "                if grid[row-1][col] <= currVal or grid[row][col-1] <= currVal or grid[row][col+1] <= currVal: low = False\n",
    "        elif col == 0:\n",
    "            if grid[row][col+1] <= currVal or grid[row-1][col] <= currVal or grid[row+1][col] <= currVal: low = False\n",
    "        elif col == len(grid[0])-1:\n",
    "            if grid[row][col-1] <= currVal or grid[row-1][col] <= currVal or grid[row+1][col] <= currVal: low = False\n",
    "        else: \n",
    "            if grid[row-1][col] <= currVal: low = False\n",
    "            if grid[row+1][col] <= currVal: low = False\n",
    "            if grid[row][col-1] <= currVal: low = False\n",
    "            if grid[row][col+1] <= currVal: low = False\n",
    "\n",
    "        if low:\n",
    "            cnt += 1\n",
    "            final_sum += currVal + 1\n",
    "            \n",
    "\n",
    "print(final_sum)\n",
    "print(cnt)\n",
    "\n",
    "#502 too low\n",
    "# 506 goal for 9a_test.txt"
   ]
  },
  {
   "cell_type": "markdown",
   "metadata": {},
   "source": [
    "### Part 2"
   ]
  },
  {
   "cell_type": "code",
   "execution_count": 98,
   "metadata": {},
   "outputs": [],
   "source": [
    "# hahahhahahahahahahahahahh much better than part 1 lmao\n",
    "\n",
    "def get_low_points(grid):\n",
    "    low_points = []\n",
    "    for row in range(len(grid)):\n",
    "        for col in range(len(grid[row])):\n",
    "            low = True\n",
    "            for r in range(row-1, row+2):\n",
    "                if r >= 0 and r < len(grid):\n",
    "                    for c in range(col-1, col+2):\n",
    "                        if c >= 0 and c < len(grid[r]):\n",
    "                            if c != col or r != row:\n",
    "                                if r == row or c == col:\n",
    "                                    if grid[row][col] >= grid[r][c]: low = False\n",
    "            if low: low_points.append((row,col))\n",
    "    return low_points"
   ]
  },
  {
   "cell_type": "code",
   "execution_count": 99,
   "metadata": {},
   "outputs": [],
   "source": [
    "def get_low_points_dict(grid):\n",
    "    low_pts = get_low_points(grid)\n",
    "    d = {}\n",
    "    for idx in range(len(low_pts)):\n",
    "        d[idx] = 0\n",
    "    return d"
   ]
  },
  {
   "cell_type": "code",
   "execution_count": 101,
   "metadata": {},
   "outputs": [],
   "source": [
    "def find_basin(grid, row, col, low_points) -> int:\n",
    "    if (row,col) in low_points: return low_points.index((row,col))\n",
    "    if grid[row][col] == 9: return -1\n",
    "    for r in range(row-1, row+2):\n",
    "        if r >= 0 and r < len(grid):\n",
    "            for c in range(col-1, col+2):\n",
    "                if c >= 0 and c < len(grid[r]):\n",
    "                    if c != col or r != row:\n",
    "                        if c == col or r == row:\n",
    "                            if grid[row][col] > grid[r][c]: return find_basin(grid, r, c, low_points)\n",
    "\n"
   ]
  },
  {
   "cell_type": "code",
   "execution_count": 102,
   "metadata": {},
   "outputs": [
    {
     "name": "stdout",
     "output_type": "stream",
     "text": [
      "(2, 2)\n",
      "[(0, 1), (0, 9), (2, 2), (4, 6)]\n"
     ]
    }
   ],
   "source": [
    "# testing find_basin\n",
    "low_points = get_low_points(grid)\n",
    "idx = find_basin(grid, 1, 2, low_points)\n",
    "print(low_points[idx])\n",
    "print(low_points)\n"
   ]
  },
  {
   "cell_type": "code",
   "execution_count": 114,
   "metadata": {},
   "outputs": [
    {
     "name": "stdout",
     "output_type": "stream",
     "text": [
      "1103130\n"
     ]
    }
   ],
   "source": [
    "from collections import Counter\n",
    "from functools import reduce\n",
    "\n",
    "low_points = get_low_points(grid)\n",
    "low_points_dict = get_low_points_dict(grid)\n",
    "for row in range(len(grid)):\n",
    "    for col in range(len(grid[row])):\n",
    "        idx = find_basin(grid,row,col,low_points)\n",
    "        if idx != -1:\n",
    "            low_points_dict[idx] = low_points_dict[idx] + 1\n",
    "\n",
    "c = Counter(low_points_dict)\n",
    "\n",
    "biggest_basins = c.most_common(3)\n",
    "sizes = [val for key, val in biggest_basins]\n",
    "final_ans = reduce((lambda x, y : x*y), sizes)\n",
    "print(final_ans)"
   ]
  }
 ],
 "metadata": {
  "interpreter": {
   "hash": "ac59ebe37160ed0dfa835113d9b8498d9f09ceb179beaac4002f036b9467c963"
  },
  "kernelspec": {
   "display_name": "Python 3.9.6 64-bit",
   "language": "python",
   "name": "python3"
  },
  "language_info": {
   "codemirror_mode": {
    "name": "ipython",
    "version": 3
   },
   "file_extension": ".py",
   "mimetype": "text/x-python",
   "name": "python",
   "nbconvert_exporter": "python",
   "pygments_lexer": "ipython3",
   "version": "3.9.6"
  },
  "orig_nbformat": 4
 },
 "nbformat": 4,
 "nbformat_minor": 2
}
