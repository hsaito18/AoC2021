{
 "cells": [
  {
   "cell_type": "code",
   "execution_count": 105,
   "metadata": {},
   "outputs": [],
   "source": [
    "with open('17a.txt') as f:\n",
    "    lines = f.readlines()\n",
    "\n",
    "lines = [line.strip() for line in lines]"
   ]
  },
  {
   "cell_type": "code",
   "execution_count": 106,
   "metadata": {},
   "outputs": [],
   "source": [
    "import re\n",
    "target_line = lines[0]\n",
    "target_params = re.split('=|,|\\.+', target_line)\n",
    "target_x = (int(target_params[1]), int(target_params[2]))\n",
    "target_y = (int(target_params[4]), int(target_params[5]))"
   ]
  },
  {
   "cell_type": "code",
   "execution_count": 107,
   "metadata": {},
   "outputs": [],
   "source": [
    "# returns 1 if in target, 2 if past target, 0 otherwise.\n",
    "def check_target(x: int, y: int, target_x: tuple, target_y: tuple) -> int:\n",
    "    min_x = min(target_x)\n",
    "    max_x = max(target_x)\n",
    "    min_y = min(target_y)\n",
    "    max_y = max(target_y)\n",
    "    if x > max_x or y < min_y: return 2\n",
    "    if x <= max_x and x >= min_x and y <= max_y and y >= min_y: return 1\n",
    "    return 0"
   ]
  },
  {
   "cell_type": "code",
   "execution_count": 108,
   "metadata": {},
   "outputs": [],
   "source": [
    "def step(x: int, y: int, x_vel: int, y_vel: int):\n",
    "    new_x = x + x_vel\n",
    "    new_y = y + y_vel\n",
    "    new_x_vel = x_vel\n",
    "    new_y_vel = y_vel - 1\n",
    "    if x_vel > 0: new_x_vel = x_vel - 1\n",
    "    elif x_vel < 0: new_x_vel = x_vel + 1\n",
    "    return ((new_x,new_y),(new_x_vel, new_y_vel))"
   ]
  },
  {
   "cell_type": "code",
   "execution_count": 109,
   "metadata": {},
   "outputs": [],
   "source": [
    "def launch(v_xi: int,v_yi: int, target_x, target_y) -> tuple:\n",
    "    highest = 0\n",
    "    x_vel = v_xi\n",
    "    y_vel = v_yi\n",
    "    pos_x = 0\n",
    "    pos_y = 0\n",
    "    done = False\n",
    "    while not done:\n",
    "        (new_pos_x, new_pos_y) , (new_vel_x, new_vel_y) = step(pos_x, pos_y, x_vel, y_vel)\n",
    "        done = check_target(new_pos_x, new_pos_y, target_x, target_y)\n",
    "        pos_x = new_pos_x\n",
    "        pos_y = new_pos_y\n",
    "        x_vel = new_vel_x\n",
    "        y_vel = new_vel_y\n",
    "        if pos_y > highest: highest = pos_y\n",
    "        if done == 1: return((v_xi, v_yi),highest)\n",
    "    return None"
   ]
  },
  {
   "cell_type": "markdown",
   "metadata": {},
   "source": [
    "### Part 1"
   ]
  },
  {
   "cell_type": "code",
   "execution_count": 110,
   "metadata": {},
   "outputs": [],
   "source": [
    "def find_highest_point(target_x,target_y):\n",
    "    good_vals = []\n",
    "    for v_yi in range(-100,1000):\n",
    "        for v_xi in range(0,1000):\n",
    "            v = launch(v_xi, v_yi, target_x,target_y)\n",
    "            if v != None:\n",
    "                good_vals.append(v)\n",
    "    max_height = 0\n",
    "    for val in good_vals:\n",
    "        (v_x, v_y), highest = val\n",
    "        if highest > max_height: max_height = highest\n",
    "    return highest"
   ]
  },
  {
   "cell_type": "code",
   "execution_count": 111,
   "metadata": {},
   "outputs": [
    {
     "name": "stdout",
     "output_type": "stream",
     "text": [
      "6441\n"
     ]
    }
   ],
   "source": [
    "# 4950 too low, but close?\n",
    "print(find_highest_point(target_x,target_y))"
   ]
  },
  {
   "cell_type": "markdown",
   "metadata": {},
   "source": [
    "### Part 2"
   ]
  },
  {
   "cell_type": "code",
   "execution_count": 112,
   "metadata": {},
   "outputs": [],
   "source": [
    "def number_of_good_shots(target_x,target_y):\n",
    "    good_vals = []\n",
    "    for v_yi in range(-115,1000):\n",
    "        for v_xi in range(0,1000):\n",
    "            v = launch(v_xi, v_yi, target_x,target_y)\n",
    "            if v != None:\n",
    "                good_vals.append(v)\n",
    "    return len(good_vals)"
   ]
  },
  {
   "cell_type": "code",
   "execution_count": 113,
   "metadata": {},
   "outputs": [
    {
     "name": "stdout",
     "output_type": "stream",
     "text": [
      "3186\n"
     ]
    }
   ],
   "source": [
    "print(number_of_good_shots(target_x, target_y))"
   ]
  }
 ],
 "metadata": {
  "interpreter": {
   "hash": "31f2aee4e71d21fbe5cf8b01ff0e069b9275f58929596ceb00d14d90e3e16cd6"
  },
  "kernelspec": {
   "display_name": "Python 3.8.9 64-bit",
   "language": "python",
   "name": "python3"
  },
  "language_info": {
   "codemirror_mode": {
    "name": "ipython",
    "version": 3
   },
   "file_extension": ".py",
   "mimetype": "text/x-python",
   "name": "python",
   "nbconvert_exporter": "python",
   "pygments_lexer": "ipython3",
   "version": "3.8.9"
  },
  "orig_nbformat": 4
 },
 "nbformat": 4,
 "nbformat_minor": 2
}
