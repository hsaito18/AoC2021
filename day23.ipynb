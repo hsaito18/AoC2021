{
 "cells": [
  {
   "cell_type": "code",
   "execution_count": 1302,
   "metadata": {},
   "outputs": [],
   "source": [
    "with open('23b.txt') as f:\n",
    "    lines = f.readlines()"
   ]
  },
  {
   "cell_type": "code",
   "execution_count": 1303,
   "metadata": {},
   "outputs": [],
   "source": [
    "from typing import List, Tuple"
   ]
  },
  {
   "cell_type": "code",
   "execution_count": 1304,
   "metadata": {},
   "outputs": [],
   "source": [
    "import sys\n",
    "sys.setrecursionlimit(2000)"
   ]
  },
  {
   "cell_type": "markdown",
   "metadata": {},
   "source": [
    "### Part 1 and Part 2"
   ]
  },
  {
   "cell_type": "markdown",
   "metadata": {},
   "source": [
    "Alright so I think my current gameplan is to take the board state, and for each pod, take every position in the board.\n",
    "Then filter: if the end position is occupied, in front of doorway, is in wrong home, or there is a foreigner in the home that it is trying to go into, remove that position from the list.\n",
    "if there is another pod in the way, remove it from the list.\n",
    "if the pod is in the hallway, and the end position is also in the hallway, remove it from the list.\n",
    "also probably remove it from the list if the end position is the upper home pos and the bottom home pos is free.\n",
    "\n",
    "after you remove all invalid moves, make a new board state and increment its energy accordingly. Recursively check I guess? if no moves are possible or the end goal is achieved, stop. gotta keep track of the energies. after all possibilities have been checked, find the one with lowest energy.\n"
   ]
  },
  {
   "cell_type": "code",
   "execution_count": 1305,
   "metadata": {},
   "outputs": [],
   "source": [
    "MAX_ENERGY = 60000\n",
    "MAX_MOVES = 40"
   ]
  },
  {
   "cell_type": "code",
   "execution_count": 1306,
   "metadata": {},
   "outputs": [],
   "source": [
    "points_dict = {'A': 1, 'B': 10, 'C': 100, 'D': 1000}"
   ]
  },
  {
   "cell_type": "code",
   "execution_count": 1307,
   "metadata": {},
   "outputs": [],
   "source": [
    "# FOR PART 1: USE BELOW SPOTS LISTS\n",
    "# A_spots = [(1,1),(1,2),(1,4),(1,6),(1,8),(1,10),(1,11),(2,3),(3,3)]\n",
    "# B_spots = [(1,1),(1,2),(1,4),(1,6),(1,8),(1,10),(1,11),(2,5),(3,5)]\n",
    "# C_spots = [(1,1),(1,2),(1,4),(1,6),(1,8),(1,10),(1,11),(2,7),(3,7)]\n",
    "# D_spots = [(1,1),(1,2),(1,4),(1,6),(1,8),(1,10),(1,11),(2,9),(3,9)]\n",
    "\n",
    "# FOR PART 2: USE BELOW SPOTS LISTS\n",
    "A_spots = [(1,1),(1,2),(1,4),(1,6),(1,8),(1,10),(1,11),(2,3),(3,3),(4,3),(5,3)]\n",
    "B_spots = [(1,1),(1,2),(1,4),(1,6),(1,8),(1,10),(1,11),(2,5),(3,5),(4,5),(5,5)]\n",
    "C_spots = [(1,1),(1,2),(1,4),(1,6),(1,8),(1,10),(1,11),(2,7),(3,7),(4,7),(5,7)]\n",
    "D_spots = [(1,1),(1,2),(1,4),(1,6),(1,8),(1,10),(1,11),(2,9),(3,9),(4,9),(5,9)]"
   ]
  },
  {
   "cell_type": "code",
   "execution_count": 1308,
   "metadata": {},
   "outputs": [],
   "source": [
    "# FOR PART 1: USE THE BELOW base_grid() FUNC.\n",
    "# def base_grid():\n",
    "#     grid = [['.']*13 for i in range(5)]\n",
    "#     grid[0] = ['#'] * 13\n",
    "#     grid[1][0] = '#'\n",
    "#     grid[1][12] = '#'\n",
    "#     grid[2][0:3] = '#' * 3\n",
    "#     grid[2][10:13] = '#' * 3\n",
    "#     grid[2][4] = '#'\n",
    "#     grid[2][6] = '#'\n",
    "#     grid[2][8] = '#'\n",
    "#     grid[3][2] = '#'\n",
    "#     grid[3][4] = '#'\n",
    "#     grid[3][6] = '#'\n",
    "#     grid[3][8] = '#'\n",
    "#     grid[3][10] = '#'\n",
    "#     grid[4][2:11] = '#' * 9\n",
    "#     return grid\n",
    "\n",
    "# FOR PART 2: USE THE BELOW base_grid() FUNC.\n",
    "def base_grid():\n",
    "    grid = [['.']*13 for i in range(7)]\n",
    "    grid[0] = ['#'] * 13\n",
    "    grid[1][0] = '#'\n",
    "    grid[1][12] = '#'\n",
    "    grid[2][0:3] = '#' * 3\n",
    "    grid[2][10:13] = '#' * 3\n",
    "    grid[2][4] = '#'\n",
    "    grid[2][6] = '#'\n",
    "    grid[2][8] = '#'\n",
    "    grid[3][2] = '#'\n",
    "    grid[3][4] = '#'\n",
    "    grid[3][6] = '#'\n",
    "    grid[3][8] = '#'\n",
    "    grid[3][10] = '#'\n",
    "    grid[4][2] = '#'\n",
    "    grid[4][4] = '#'\n",
    "    grid[4][6] = '#'\n",
    "    grid[4][8] = '#'\n",
    "    grid[4][10] = '#'\n",
    "    grid[5][2] = '#'\n",
    "    grid[5][4] = '#'\n",
    "    grid[5][6] = '#'\n",
    "    grid[5][8] = '#'\n",
    "    grid[5][10] = '#'\n",
    "    grid[6][2:11] = '#' * 9\n",
    "    return grid"
   ]
  },
  {
   "cell_type": "code",
   "execution_count": 1309,
   "metadata": {},
   "outputs": [],
   "source": [
    "class Game_State:\n",
    "    \n",
    "    def __init__(self, pods: List[Tuple[int,int,chr]]):\n",
    "        self.pods = pods\n",
    "        self.base = base_grid()\n",
    "        for coords in self.pods:\n",
    "            row,col,ch = coords\n",
    "            self.base[row][col] = ch\n",
    "            \n",
    "    def check_point(self, row: int, col: int) -> bool:\n",
    "        if self.base[row][col] != '.':\n",
    "            return False\n",
    "        return True\n",
    "\n",
    "    def check_home(self, flavour: chr) -> bool:\n",
    "        if flavour == 'A':\n",
    "            if self.base[2][3] == 'C' or self.base[2][3] == 'B' or self.base[2][3] == 'D': return False\n",
    "            if self.base[3][3] == 'C' or self.base[3][3] == 'B' or self.base[3][3] == 'D': return False\n",
    "            # Comment below 2 lines out for part 1. Do the same for other flavours.\n",
    "            if self.base[4][3] == 'C' or self.base[4][3] == 'B' or self.base[4][3] == 'D': return False\n",
    "            if self.base[5][3] == 'C' or self.base[5][3] == 'B' or self.base[5][3] == 'D': return False \n",
    "        if flavour == 'B':\n",
    "            if self.base[2][5] == 'A' or self.base[2][5] == 'C' or self.base[2][5] == 'D': return False\n",
    "            if self.base[3][5] == 'A' or self.base[3][5] == 'C' or self.base[3][5] == 'D': return False\n",
    "            if self.base[4][5] == 'A' or self.base[4][5] == 'C' or self.base[4][5] == 'D': return False\n",
    "            if self.base[5][5] == 'A' or self.base[5][5] == 'C' or self.base[5][5] == 'D': return False  \n",
    "        if flavour == 'C':\n",
    "            if self.base[2][7] == 'A' or self.base[2][7] == 'B' or self.base[2][7] == 'D': return False\n",
    "            if self.base[3][7] == 'A' or self.base[3][7] == 'B' or self.base[3][7] == 'D': return False\n",
    "            if self.base[4][7] == 'A' or self.base[4][7] == 'B' or self.base[4][7] == 'D': return False\n",
    "            if self.base[5][7] == 'A' or self.base[5][7] == 'B' or self.base[5][7] == 'D': return False  \n",
    "        if flavour == 'D':\n",
    "            if self.base[2][9] == 'A' or self.base[2][9] == 'B' or self.base[2][9] == 'C': return False\n",
    "            if self.base[3][9] == 'A' or self.base[3][9] == 'B' or self.base[3][9] == 'C': return False\n",
    "            if self.base[4][9] == 'A' or self.base[4][9] == 'B' or self.base[4][9] == 'C': return False\n",
    "            if self.base[5][9] == 'A' or self.base[5][9] == 'B' or self.base[5][9] == 'C': return False  \n",
    "        return True\n",
    "         \n",
    "    def complete_home(self, col: int) -> bool:\n",
    "        if col == 3:\n",
    "            correct = 'A'\n",
    "        elif col == 5:\n",
    "            correct = 'B'\n",
    "        elif col == 7:\n",
    "            correct = 'C'\n",
    "        else:\n",
    "            correct = 'D'\n",
    "        # below line for part 1.\n",
    "        # if self.base[2][col] == correct and self.base[3][col] == correct: return True\n",
    "        # below 2 lines for part 2.\n",
    "        if self.base[2][col] == correct and self.base[3][col] == correct and \\\n",
    "            self.base[4][col] == correct and self.base[5][col] == correct: return True \n",
    "        return False\n",
    "        \n",
    "    def complete_total(self) -> bool:\n",
    "         if self.complete_home(3) and self.complete_home(5) and self.complete_home(7) and self.complete_home(9): return True\n",
    "         return False\n",
    "         \n",
    "    def __str__(self):\n",
    "        string = ''\n",
    "        for i in range(len(self.base)):\n",
    "            string += str(self.base[i])\n",
    "            if i != len(self.base) - 1: string += '\\n'\n",
    "        return string"
   ]
  },
  {
   "cell_type": "code",
   "execution_count": 1310,
   "metadata": {},
   "outputs": [],
   "source": [
    "init_pods = []\n",
    "for row in range(len(lines)):\n",
    "    for col in range(len(lines[row])):\n",
    "        if lines[row][col] == 'A':\n",
    "            init_pods.append((row,col,'A'))\n",
    "        elif lines[row][col] == 'B':\n",
    "            init_pods.append((row,col,'B'))\n",
    "        elif lines[row][col] == 'C':\n",
    "            init_pods.append((row,col,'C'))\n",
    "        elif lines[row][col] == 'D':\n",
    "            init_pods.append((row,col,'D'))\n",
    "init_state = Game_State(init_pods)"
   ]
  },
  {
   "cell_type": "code",
   "execution_count": 1311,
   "metadata": {},
   "outputs": [],
   "source": [
    "def get_spots(flavour: chr) -> List[Tuple[int, int]]:\n",
    "    if flavour == 'A': return A_spots\n",
    "    elif flavour == 'B': return B_spots\n",
    "    elif flavour == 'C': return C_spots\n",
    "    elif flavour == 'D': return D_spots\n",
    "    else:\n",
    "        print(\"error\")\n",
    "        return A_spots"
   ]
  },
  {
   "cell_type": "code",
   "execution_count": 1312,
   "metadata": {},
   "outputs": [],
   "source": [
    "def correct_spot(column: int, flavour: chr) -> bool:\n",
    "    if column == 3 and flavour == 'A': return True\n",
    "    if column == 5 and flavour == 'B': return True\n",
    "    if column == 7 and flavour == 'C': return True\n",
    "    if column == 9 and flavour == 'D': return True\n",
    "    return False"
   ]
  },
  {
   "cell_type": "code",
   "execution_count": 1313,
   "metadata": {},
   "outputs": [],
   "source": [
    "def valid_end(goal: Tuple[int, int], flavour: chr, hallway: bool, grid: Game_State) -> bool:\n",
    "        #check if room doesnt contain any foreigners\n",
    "        row = goal[0]\n",
    "        col = goal[1]\n",
    "        if row > 1 and not grid.check_home(flavour):\n",
    "            return False\n",
    "        #check that if the bottom home slot if open, the upper one is invalid. right?\n",
    "        if row > 1 and row < len(lines) - 2 and grid.base[row+1][col] == '.':\n",
    "            return False\n",
    "        # print('valid end')\n",
    "        return True"
   ]
  },
  {
   "cell_type": "code",
   "execution_count": 1314,
   "metadata": {},
   "outputs": [],
   "source": [
    "def valid_start(start: Tuple[int, int], flav: chr, grid: Game_State) -> bool:\n",
    "    if correct_spot(start[1], flav):\n",
    "        if start[0] == 5: return False\n",
    "        if correct_spot(start[1], grid.base[5][start[1]]):\n",
    "            if start[0] == 4: return False\n",
    "            if correct_spot(start[1], grid.base[4][start[1]]):\n",
    "                if start[0] == 3: return False\n",
    "                if correct_spot(start[1], grid.base[3][start[1]]):\n",
    "                    return False\n",
    "    # print(\"valid start\")\n",
    "    return True"
   ]
  },
  {
   "cell_type": "code",
   "execution_count": 1315,
   "metadata": {},
   "outputs": [],
   "source": [
    "def valid_path(start: Tuple[int, int], goal: Tuple[int, int], grid: Game_State) -> bool:\n",
    "    if start[0] == 1 and goal[0] == 1: return False\n",
    "    curr_row = start[0]\n",
    "    curr_col = start[1]\n",
    "    if curr_row > 1 and goal[0] > 1:\n",
    "        for i in range(1, curr_row):\n",
    "            if not grid.check_point(curr_row-i, curr_col): return False\n",
    "        curr_row = 1\n",
    "        # check moving right\n",
    "        if goal[1] > start[1]:\n",
    "            for i in range(1, goal[1] - start[1] + 1):\n",
    "                if not grid.check_point(curr_row, start[1] + i):\n",
    "                    return False\n",
    "            curr_col = goal[1]\n",
    "        #check moving left\n",
    "        if goal[1] < start[1]:\n",
    "            for i in range(1, start[1] - goal[1] + 1):\n",
    "                if not grid.check_point(curr_row, start[1] - i):\n",
    "                    return False\n",
    "            curr_col = goal[1]\n",
    "        for i in range(1, goal[0]):\n",
    "            if not grid.check_point(curr_row+i, curr_col): return False\n",
    "        return True\n",
    "    # check if have to move up first\n",
    "    if goal[0] < start[0]:\n",
    "        for i in range(1, start[0] - goal[0] + 1):\n",
    "            if not grid.check_point(start[0] - i, start[1]):\n",
    "                return False\n",
    "        curr_row = goal[0]\n",
    "\n",
    "    # check moving right\n",
    "    if goal[1] > start[1]:\n",
    "        for i in range(1, goal[1] - start[1] + 1):\n",
    "            if not grid.check_point(curr_row, start[1] + i):\n",
    "                return False\n",
    "        curr_col = goal[1]\n",
    "    #check moving left\n",
    "    if goal[1] < start[1]:\n",
    "        for i in range(1, start[1] - goal[1] + 1):\n",
    "            if not grid.check_point(curr_row, start[1] - i):\n",
    "                return False\n",
    "        curr_col = goal[1]\n",
    "    \n",
    "    #check moving down after\n",
    "    if goal[0] > start[0]:\n",
    "        for i in range(1, goal[0] - start[0] + 1):\n",
    "            if not grid.check_point(start[0] + i, curr_col):\n",
    "                return False\n",
    "        curr_row = goal[0]\n",
    "    # print('valid path')\n",
    "    return True\n",
    "\n",
    "        "
   ]
  },
  {
   "cell_type": "code",
   "execution_count": 1316,
   "metadata": {},
   "outputs": [],
   "source": [
    "def min_dist_to_goal(row: int, col: int, flavour: chr) -> int:\n",
    "    # use line below for part 1\n",
    "    # dist = abs(row - 2)\n",
    "    # use line below for part 2\n",
    "    dist = abs(row - 3)\n",
    "    if flavour == 'A':\n",
    "        dist += abs(col - 3)\n",
    "    elif flavour == 'B':\n",
    "        dist += abs(col - 5)\n",
    "    elif flavour == 'C':\n",
    "        dist += abs(col - 7)\n",
    "    elif flavour == 'D':\n",
    "        dist += abs(col - 9)\n",
    "    return dist    "
   ]
  },
  {
   "cell_type": "code",
   "execution_count": 1317,
   "metadata": {},
   "outputs": [],
   "source": [
    "def min_energy_forecast(grid: Game_State) -> int:\n",
    "    cum = 0\n",
    "    for pod in grid.pods:\n",
    "        cum += min_dist_to_goal(pod[0], pod[1], pod[2])\n",
    "    return cum"
   ]
  },
  {
   "cell_type": "code",
   "execution_count": 1318,
   "metadata": {},
   "outputs": [],
   "source": [
    "def energy_calc(start: Tuple[int, int], goal: Tuple[int, int], flavour: chr) -> int:\n",
    "    energy_per = points_dict[flavour]\n",
    "    if start[0] > 1 and goal[0] > 1:\n",
    "        num_moves = start[0] - 1 + abs(start[1] - goal[1]) + goal[0] - 1\n",
    "    else:\n",
    "        num_moves = abs(goal[0] - start[0]) + abs(goal[1] - start[1])\n",
    "    return energy_per * num_moves"
   ]
  },
  {
   "cell_type": "code",
   "execution_count": 1319,
   "metadata": {},
   "outputs": [],
   "source": [
    "def check_complete(grid: Game_State) -> bool:\n",
    "    if grid.complete_home(3) and grid.complete_home(5) and grid.complete_home(7) and grid.complete_home(9): return True\n",
    "    return False"
   ]
  },
  {
   "cell_type": "code",
   "execution_count": 1320,
   "metadata": {},
   "outputs": [],
   "source": [
    "def stepper(grid: Game_State, curr_energy: int, curr_moves: int) -> List[int]:\n",
    "    global MAX_ENERGY\n",
    "    if curr_energy > MAX_ENERGY: return []\n",
    "    if curr_moves > MAX_MOVES: return []\n",
    "    if grid.complete_total(): \n",
    "        # print(curr_energy)\n",
    "        if curr_energy < MAX_ENERGY:\n",
    "            MAX_ENERGY = curr_energy\n",
    "        return [curr_energy]\n",
    "    if min_energy_forecast(grid) > MAX_ENERGY: return []\n",
    "    succs = []\n",
    "    pods = grid.pods\n",
    "    #preliminary go home check\n",
    "    for i in range(len(pods)):\n",
    "        pod = pods[i]\n",
    "        start = (pod[0], pod[1])\n",
    "        flav = pod[2]\n",
    "        all_moves = get_spots(flav)\n",
    "        valid_moves = []\n",
    "        for move in all_moves:\n",
    "            if valid_start(start, flav, grid) and valid_end(move, flav, True if start[0] == 1 else False, grid) and valid_path(start, move, grid):\n",
    "                # print(move)\n",
    "                valid_moves.append(move)\n",
    "                if move[0] > 1:\n",
    "                    energy_cost = energy_calc(start, move, flav)\n",
    "                    next_pods = pods.copy()\n",
    "                    next_pods[i] = (move[0], move[1], flav)\n",
    "                    next_grid = Game_State(next_pods)\n",
    "                    next_energy = curr_energy + energy_cost\n",
    "                    # print(next_grid)\n",
    "                    # print('\\n')\n",
    "                    succs.extend(stepper(next_grid, next_energy, curr_moves + 1))\n",
    "                    return succs\n",
    "    for i in range(len(pods)):\n",
    "        pod = pods[i]\n",
    "        start = (pod[0], pod[1])\n",
    "        flav = pod[2]\n",
    "        all_moves = get_spots(flav)\n",
    "        valid_moves = []\n",
    "        for move in all_moves:\n",
    "            if valid_start(start, flav, grid) and valid_end(move, flav, True if start[0] == 1 else False, grid) and valid_path(start, move, grid):\n",
    "                # print(move)\n",
    "                valid_moves.append(move)\n",
    "\n",
    "        # print('\\n')\n",
    "        # print(flav)\n",
    "        # print(grid)\n",
    "        # print(valid_moves)\n",
    "        for v_move in valid_moves:\n",
    "            energy_cost = energy_calc(start, v_move, flav)\n",
    "            next_pods = pods.copy()\n",
    "            next_pods[i] = (v_move[0],  v_move[1], flav)\n",
    "            next_grid = Game_State(next_pods)\n",
    "            next_energy = curr_energy + energy_cost\n",
    "            # print(next_grid)\n",
    "            # print('\\n')\n",
    "            succs.extend(stepper(next_grid, next_energy, curr_moves + 1))\n",
    "    # print('BREAK')\n",
    "    return succs\n"
   ]
  },
  {
   "cell_type": "code",
   "execution_count": 1321,
   "metadata": {},
   "outputs": [
    {
     "name": "stdout",
     "output_type": "stream",
     "text": [
      "42308\n"
     ]
    }
   ],
   "source": [
    "output = stepper(init_state, 0, 0)\n",
    "min_energy = MAX_ENERGY\n",
    "for i in range(len(output)):\n",
    "    if output[i] < min_energy:\n",
    "        min_energy = output[i]\n",
    "print(min_energy)"
   ]
  }
 ],
 "metadata": {
  "interpreter": {
   "hash": "11938c6bc6919ae2720b4d5011047913343b08a43b18698fd82dedb0d4417594"
  },
  "kernelspec": {
   "display_name": "Python 3.9.6 64-bit",
   "language": "python",
   "name": "python3"
  },
  "language_info": {
   "codemirror_mode": {
    "name": "ipython",
    "version": 3
   },
   "file_extension": ".py",
   "mimetype": "text/x-python",
   "name": "python",
   "nbconvert_exporter": "python",
   "pygments_lexer": "ipython3",
   "version": "3.9.6"
  },
  "orig_nbformat": 4
 },
 "nbformat": 4,
 "nbformat_minor": 2
}
