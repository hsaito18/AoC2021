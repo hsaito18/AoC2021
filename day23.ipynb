{
 "cells": [
  {
   "cell_type": "code",
   "execution_count": 2,
   "metadata": {},
   "outputs": [],
   "source": [
    "with open('23a.txt') as f:\n",
    "    lines = f.readlines()"
   ]
  },
  {
   "cell_type": "code",
   "execution_count": 3,
   "metadata": {},
   "outputs": [],
   "source": [
    "from typing import List, Tuple"
   ]
  },
  {
   "cell_type": "code",
   "execution_count": 4,
   "metadata": {},
   "outputs": [],
   "source": [
    "points_dict = {'A': 1, 'B': 10, 'C': 100, 'D': 1000}"
   ]
  },
  {
   "cell_type": "code",
   "execution_count": 11,
   "metadata": {},
   "outputs": [],
   "source": [
    "A_spots = [(1,1),(1,2),(1,4),(1,6),(1,8),(1,10),(1,11),(2,3),(3,3)]\n",
    "B_spots = [(1,1),(1,2),(1,4),(1,6),(1,8),(1,10),(1,11),(2,5),(3,5)]\n",
    "C_spots = [(1,1),(1,2),(1,4),(1,6),(1,8),(1,10),(1,11),(2,7),(3,7)]\n",
    "D_spots = [(1,1),(1,2),(1,4),(1,6),(1,8),(1,10),(1,11),(2,9),(3,9)]"
   ]
  },
  {
   "cell_type": "code",
   "execution_count": 5,
   "metadata": {},
   "outputs": [],
   "source": [
    "def base_grid():\n",
    "    grid = [['.']*13 for i in range(5)]\n",
    "    grid[0] = ['#'] * 13\n",
    "    grid[1][0] = '#'\n",
    "    grid[1][12] = '#'\n",
    "    grid[2][0:3] = '#' * 3\n",
    "    grid[2][10:13] = '#' * 3\n",
    "    grid[2][4] = '#'\n",
    "    grid[2][6] = '#'\n",
    "    grid[2][8] = '#'\n",
    "    grid[3][2] = '#'\n",
    "    grid[3][4] = '#'\n",
    "    grid[3][6] = '#'\n",
    "    grid[3][8] = '#'\n",
    "    grid[3][10] = '#'\n",
    "    grid[4][2:11] = '#' * 9\n",
    "    return grid"
   ]
  },
  {
   "cell_type": "code",
   "execution_count": 6,
   "metadata": {},
   "outputs": [],
   "source": [
    "class Game_State:\n",
    "    \n",
    "    def __init__(self, pods: List[Tuple[int,int,chr]]):\n",
    "        self.pods = pods\n",
    "        self.base = base_grid()\n",
    "        for coords in self.pods:\n",
    "            row,col,ch = coords\n",
    "            self.base[row][col] = ch\n",
    "\n",
    "    def check_point(self, row: int, col: int) -> bool:\n",
    "        if self.base[row][col] != '.':\n",
    "            return False\n",
    "         \n",
    "    def __str__(self):\n",
    "        string = ''\n",
    "        for i in range(len(self.base)):\n",
    "            string += str(self.base[i])\n",
    "            if i != len(self.base) - 1: string += '\\n'\n",
    "        return string\n",
    "    \n"
   ]
  },
  {
   "cell_type": "code",
   "execution_count": 7,
   "metadata": {},
   "outputs": [],
   "source": [
    "init_pods = []\n",
    "for row in range(len(lines)):\n",
    "    for col in range(len(lines[row])):\n",
    "        if lines[row][col] == 'A':\n",
    "            init_pods.append((row,col,'A'))\n",
    "        elif lines[row][col] == 'B':\n",
    "            init_pods.append((row,col,'B'))\n",
    "        elif lines[row][col] == 'C':\n",
    "            init_pods.append((row,col,'C'))\n",
    "        elif lines[row][col] == 'D':\n",
    "            init_pods.append((row,col,'D'))\n",
    "init_state = Game_State(init_pods)"
   ]
  },
  {
   "cell_type": "code",
   "execution_count": 8,
   "metadata": {},
   "outputs": [
    {
     "name": "stdout",
     "output_type": "stream",
     "text": [
      "['#', '#', '#', '#', '#', '#', '#', '#', '#', '#', '#', '#', '#']\n",
      "['#', '.', '.', '.', '.', '.', '.', '.', '.', '.', '.', '.', '#']\n",
      "['#', '#', '#', 'D', '#', 'A', '#', 'D', '#', 'C', '#', '#', '#']\n",
      "['.', '.', '#', 'C', '#', 'A', '#', 'B', '#', 'B', '#', '.', '.']\n",
      "['.', '.', '#', '#', '#', '#', '#', '#', '#', '#', '#', '.', '.']\n"
     ]
    }
   ],
   "source": [
    "print(init_state)"
   ]
  },
  {
   "cell_type": "code",
   "execution_count": null,
   "metadata": {},
   "outputs": [],
   "source": [
    "def valid_end(goal: Tuple[int, int], flavour: chr, hallway: bool, grid: Game_State) -> bool:\n",
    "        if flavour == 'A' and (row, col) not in A_spots:\n",
    "            return False\n",
    "        elif flavour == 'B' and (row, col) not in B_spots:\n",
    "            return False\n",
    "        elif flavour == 'C' and (row, col) not in C_spots:\n",
    "            return False\n",
    "        elif flavour == 'D' and (row, col) not in D_spots:\n",
    "            return False\n",
    "        "
   ]
  },
  {
   "cell_type": "code",
   "execution_count": 10,
   "metadata": {},
   "outputs": [
    {
     "ename": "IndentationError",
     "evalue": "expected an indented block (Temp/ipykernel_10156/2311239632.py, line 6)",
     "output_type": "error",
     "traceback": [
      "\u001b[1;36m  File \u001b[1;32m\"C:\\Users\\hsait\\AppData\\Local\\Temp/ipykernel_10156/2311239632.py\"\u001b[1;36m, line \u001b[1;32m6\u001b[0m\n\u001b[1;33m    \u001b[0m\n\u001b[1;37m    ^\u001b[0m\n\u001b[1;31mIndentationError\u001b[0m\u001b[1;31m:\u001b[0m expected an indented block\n"
     ]
    }
   ],
   "source": [
    "def valid_path(start: Tuple[int, int], goal: Tuple[int, int], grid: Game_State) -> bool:\n",
    "    # check if have to move up first\n",
    "    if goal[0] > start[0]:\n",
    "        for i in range(goal[0] - start[0] + 1):\n",
    "            if not grid.check_point(start[0] + i, start[1]):\n",
    "                return False\n",
    "\n",
    "    # check moving right\n",
    "    if goal[1] > start[1]:\n",
    "        for i in range(goal[1] - start[1] + 1):\n",
    "            if not grid.check_point(goal[0], start[1] + 1):\n",
    "                return False\n",
    "    \n",
    "    #check moving left\n",
    "    if goal[1] < start[1]:\n",
    "        "
   ]
  },
  {
   "cell_type": "code",
   "execution_count": null,
   "metadata": {},
   "outputs": [
    {
     "ename": "SyntaxError",
     "evalue": "invalid syntax (2022314871.py, line 5)",
     "output_type": "error",
     "traceback": [
      "\u001b[0;36m  File \u001b[0;32m\"/var/folders/c5/fyskfhrs3p10hwdcsy1011000000gn/T/ipykernel_846/2022314871.py\"\u001b[0;36m, line \u001b[0;32m5\u001b[0m\n\u001b[0;31m    if\u001b[0m\n\u001b[0m       ^\u001b[0m\n\u001b[0;31mSyntaxError\u001b[0m\u001b[0;31m:\u001b[0m invalid syntax\n"
     ]
    }
   ],
   "source": [
    "def find_pods_moves(gamestate: Game_State, pod: Tuple[int, int, int]):\n",
    "    moves = []\n",
    "    if not pod in gamestate.pods:\n",
    "        print(\"pod not actually in game state!\")\n",
    "        return None\n",
    "    if gamestate.base[pod[0]+1][pod[1]] == '.':\n",
    "        new_pods = gamestate.pods.copy()\n",
    "        new_pods.remove(pod)\n",
    "        new_pods.append((pod[0]+1, pod[1], pod[2]))\n",
    "\n"
   ]
  },
  {
   "cell_type": "code",
   "execution_count": null,
   "metadata": {},
   "outputs": [
    {
     "ename": "SyntaxError",
     "evalue": "expected ':' (1391122201.py, line 1)",
     "output_type": "error",
     "traceback": [
      "\u001b[0;36m  File \u001b[0;32m\"/var/folders/c5/fyskfhrs3p10hwdcsy1011000000gn/T/ipykernel_846/1391122201.py\"\u001b[0;36m, line \u001b[0;32m1\u001b[0m\n\u001b[0;31m    def find_possible_moves(gamestate: Game_State)\u001b[0m\n\u001b[0m                                                  ^\u001b[0m\n\u001b[0;31mSyntaxError\u001b[0m\u001b[0;31m:\u001b[0m expected ':'\n"
     ]
    }
   ],
   "source": [
    "def find_possible_moves(gamestate: Game_State):\n",
    "    for pod in gamestate.pods:\n",
    "        "
   ]
  },
  {
   "cell_type": "code",
   "execution_count": null,
   "metadata": {},
   "outputs": [
    {
     "ename": "IndentationError",
     "evalue": "expected an indented block after function definition on line 2 (20354518.py, line 3)",
     "output_type": "error",
     "traceback": [
      "\u001b[0;36m  File \u001b[0;32m\"/var/folders/c5/fyskfhrs3p10hwdcsy1011000000gn/T/ipykernel_25311/20354518.py\"\u001b[0;36m, line \u001b[0;32m3\u001b[0m\n\u001b[0;31m    \u001b[0m\n\u001b[0m    ^\u001b[0m\n\u001b[0;31mIndentationError\u001b[0m\u001b[0;31m:\u001b[0m expected an indented block after function definition on line 2\n"
     ]
    }
   ],
   "source": [
    "# given a state, recursively check all possible states. keep a list of states in memory to avoid loops.\n",
    "def move(pods: List[Tuple[int, int]]):\n",
    "    "
   ]
  }
 ],
 "metadata": {
  "interpreter": {
   "hash": "11938c6bc6919ae2720b4d5011047913343b08a43b18698fd82dedb0d4417594"
  },
  "kernelspec": {
   "display_name": "Python 3.9.6 64-bit",
   "language": "python",
   "name": "python3"
  },
  "language_info": {
   "codemirror_mode": {
    "name": "ipython",
    "version": 3
   },
   "file_extension": ".py",
   "mimetype": "text/x-python",
   "name": "python",
   "nbconvert_exporter": "python",
   "pygments_lexer": "ipython3",
   "version": "3.9.6"
  },
  "orig_nbformat": 4
 },
 "nbformat": 4,
 "nbformat_minor": 2
}
