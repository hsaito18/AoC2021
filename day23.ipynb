{
 "cells": [
  {
   "cell_type": "code",
   "execution_count": 16,
   "metadata": {},
   "outputs": [],
   "source": [
    "with open('23a.txt') as f:\n",
    "    lines = f.readlines()"
   ]
  },
  {
   "cell_type": "code",
   "execution_count": 17,
   "metadata": {},
   "outputs": [],
   "source": [
    "from typing import List, Tuple"
   ]
  },
  {
   "cell_type": "code",
   "execution_count": 18,
   "metadata": {},
   "outputs": [],
   "source": [
    "import sys\n",
    "sys.setrecursionlimit(2000)"
   ]
  },
  {
   "cell_type": "markdown",
   "metadata": {},
   "source": [
    "Alright so I think my current gameplan is to take the board state, and for each pod, take every position in the board.\n",
    "Then filter: if the end position is occupied, in front of doorway, is in wrong home, or there is a foreigner in the home that it is trying to go into, remove that position from the list.\n",
    "if there is another pod in the way, remove it from the list.\n",
    "if the pod is in the hallway, and the end position is also in the hallway, remove it from the list.\n",
    "also probably remove it from the list if the end position is the upper home pos and the bottom home pos is free.\n",
    "\n",
    "after you remove all invalid moves, make a new board state and increment its energy accordingly. Recursively check I guess? if no moves are possible or the end goal is achieved, stop. gotta keep track of the energies. after all possibilities have been checked, find the one with lowest energy.\n"
   ]
  },
  {
   "cell_type": "code",
   "execution_count": 19,
   "metadata": {},
   "outputs": [],
   "source": [
    "MAX_ENERGY = 20000\n",
    "MAX_MOVES = 30"
   ]
  },
  {
   "cell_type": "code",
   "execution_count": 20,
   "metadata": {},
   "outputs": [],
   "source": [
    "points_dict = {'A': 1, 'B': 10, 'C': 100, 'D': 1000}"
   ]
  },
  {
   "cell_type": "code",
   "execution_count": 21,
   "metadata": {},
   "outputs": [],
   "source": [
    "A_spots = [(1,1),(1,2),(1,4),(1,6),(1,8),(1,10),(1,11),(2,3),(3,3)]\n",
    "B_spots = [(1,1),(1,2),(1,4),(1,6),(1,8),(1,10),(1,11),(2,5),(3,5)]\n",
    "C_spots = [(1,1),(1,2),(1,4),(1,6),(1,8),(1,10),(1,11),(2,7),(3,7)]\n",
    "D_spots = [(1,1),(1,2),(1,4),(1,6),(1,8),(1,10),(1,11),(2,9),(3,9)]"
   ]
  },
  {
   "cell_type": "code",
   "execution_count": 22,
   "metadata": {},
   "outputs": [],
   "source": [
    "def base_grid():\n",
    "    grid = [['.']*13 for i in range(5)]\n",
    "    grid[0] = ['#'] * 13\n",
    "    grid[1][0] = '#'\n",
    "    grid[1][12] = '#'\n",
    "    grid[2][0:3] = '#' * 3\n",
    "    grid[2][10:13] = '#' * 3\n",
    "    grid[2][4] = '#'\n",
    "    grid[2][6] = '#'\n",
    "    grid[2][8] = '#'\n",
    "    grid[3][2] = '#'\n",
    "    grid[3][4] = '#'\n",
    "    grid[3][6] = '#'\n",
    "    grid[3][8] = '#'\n",
    "    grid[3][10] = '#'\n",
    "    grid[4][2:11] = '#' * 9\n",
    "    return grid"
   ]
  },
  {
   "cell_type": "code",
   "execution_count": 31,
   "metadata": {},
   "outputs": [],
   "source": [
    "class Game_State:\n",
    "    \n",
    "    def __init__(self, pods: List[Tuple[int,int,chr]]):\n",
    "        self.pods = pods\n",
    "        self.base = base_grid()\n",
    "        for coords in self.pods:\n",
    "            row,col,ch = coords\n",
    "            self.base[row][col] = ch\n",
    "            \n",
    "    def check_point(self, row: int, col: int) -> bool:\n",
    "        if self.base[row][col] != '.':\n",
    "            return False\n",
    "        return True\n",
    "\n",
    "    def check_home(self, flavour: chr) -> bool:\n",
    "        if flavour == 'A':\n",
    "            if (not (self.base[2][3] == '.' or self.base[2][3] == flavour)) or (not (self.base[3][3] == '.' or self.base[3][3] == flavour)):\n",
    "                return False\n",
    "        if flavour == 'B':\n",
    "            if (not (self.base[2][5] == '.' or self.base[2][5] == flavour)) or (not (self.base[3][5] == '.' or self.base[3][5] == flavour)):\n",
    "                return False\n",
    "        if flavour == 'C':\n",
    "            if (not (self.base[2][7] == '.' or self.base[2][7] == flavour)) or (not (self.base[3][3] == '.' or self.base[3][3] == flavour)):\n",
    "                return False\n",
    "        if flavour == 'D':\n",
    "            if (not (self.base[2][9] == '.' or self.base[2][9] == flavour)) or (not (self.base[3][9] == '.' or self.base[3][9] == flavour)):\n",
    "                return False\n",
    "        return True\n",
    "         \n",
    "    def complete_home(self, col: int) -> bool:\n",
    "        if col == 3:\n",
    "            correct = 'A'\n",
    "        elif col == 5:\n",
    "            correct = 'B'\n",
    "        elif col == 7:\n",
    "            correct = 'C'\n",
    "        else:\n",
    "            correct = 'D'\n",
    "        if self.base[2][col] == correct and self.base[3][col] == correct: return True\n",
    "        return False\n",
    "        \n",
    "    def complete_total(self) -> bool:\n",
    "         if self.complete_home(3) and self.complete_home(5) and self.complete_home(7) and self.complete_home(9): return True\n",
    "         return False\n",
    "         \n",
    "    def __str__(self):\n",
    "        string = ''\n",
    "        for i in range(len(self.base)):\n",
    "            string += str(self.base[i])\n",
    "            if i != len(self.base) - 1: string += '\\n'\n",
    "        return string"
   ]
  },
  {
   "cell_type": "code",
   "execution_count": 24,
   "metadata": {},
   "outputs": [],
   "source": [
    "init_pods = []\n",
    "for row in range(len(lines)):\n",
    "    for col in range(len(lines[row])):\n",
    "        if lines[row][col] == 'A':\n",
    "            init_pods.append((row,col,'A'))\n",
    "        elif lines[row][col] == 'B':\n",
    "            init_pods.append((row,col,'B'))\n",
    "        elif lines[row][col] == 'C':\n",
    "            init_pods.append((row,col,'C'))\n",
    "        elif lines[row][col] == 'D':\n",
    "            init_pods.append((row,col,'D'))\n",
    "init_state = Game_State(init_pods)"
   ]
  },
  {
   "cell_type": "code",
   "execution_count": 25,
   "metadata": {},
   "outputs": [],
   "source": [
    "def get_spots(flavour: chr) -> List[Tuple[int, int]]:\n",
    "    if flavour == 'A': return A_spots\n",
    "    elif flavour == 'B': return B_spots\n",
    "    elif flavour == 'C': return C_spots\n",
    "    elif flavour == 'D': return D_spots\n",
    "    else:\n",
    "        print(\"error\")\n",
    "        return A_spots"
   ]
  },
  {
   "cell_type": "code",
   "execution_count": 26,
   "metadata": {},
   "outputs": [],
   "source": [
    "def valid_end(goal: Tuple[int, int], flavour: chr, hallway: bool, grid: Game_State) -> bool:\n",
    "        #check if room doesnt contain any foreigners\n",
    "        if row > 1 and not grid.check_home(flavour):\n",
    "            return False\n",
    "\n",
    "        #check that if the bottom home slot if open, the upper one is invalid. right?\n",
    "        if row == 2 and grid.base[3][col] == '.':\n",
    "            return False\n",
    "        \n",
    "        return True"
   ]
  },
  {
   "cell_type": "code",
   "execution_count": 27,
   "metadata": {},
   "outputs": [],
   "source": [
    "def valid_path(start: Tuple[int, int], goal: Tuple[int, int], grid: Game_State) -> bool:\n",
    "    if start[0] == 1 and goal[0] == 1: return False\n",
    "    if start[0] > 2 and grid.complete_home(start[1]): return False\n",
    "    curr_row = start[0]\n",
    "    curr_col = start[1]\n",
    "    # check if have to move up first\n",
    "    if goal[0] < start[0]:\n",
    "        for i in range(1, start[0] - goal[0] + 1):\n",
    "            if not grid.check_point(start[0] - i, start[1]):\n",
    "                return False\n",
    "        curr_row = goal[0]\n",
    "\n",
    "    # check moving right\n",
    "    if goal[1] > start[1]:\n",
    "        for i in range(1, goal[1] - start[1] + 1):\n",
    "            if not grid.check_point(curr_row, start[1] + i):\n",
    "                return False\n",
    "        curr_col = goal[1]\n",
    "    #check moving left\n",
    "    if goal[1] < start[1]:\n",
    "        for i in range(1, start[1] - goal[1] + 1):\n",
    "            if not grid.check_point(curr_row, start[1] - i):\n",
    "                return False\n",
    "        curr_col = goal[1]\n",
    "    \n",
    "    #check moving down after\n",
    "    if goal[0] > start[0]:\n",
    "        for i in range(1, goal[0] - start[0] + 1):\n",
    "            if not grid.check_point(start[0] + i, curr_col):\n",
    "                return False\n",
    "        curr_row = goal[0]\n",
    "    \n",
    "    return True\n",
    "\n",
    "        "
   ]
  },
  {
   "cell_type": "code",
   "execution_count": 28,
   "metadata": {},
   "outputs": [],
   "source": [
    "def energy_calc(start: Tuple[int, int], goal: Tuple[int, int], flavour: chr) -> int:\n",
    "    energy_per = points_dict[flavour]\n",
    "    num_moves = abs(goal[0] - start[0]) + abs(goal[1] - start[1])\n",
    "    return energy_per * num_moves"
   ]
  },
  {
   "cell_type": "code",
   "execution_count": 29,
   "metadata": {},
   "outputs": [],
   "source": [
    "def check_complete(grid: Game_State) -> bool:\n",
    "    if grid.complete_home(3) and grid.complete_home(5) and grid.complete_home(7) and grid.complete_home(9): return True\n",
    "    return False"
   ]
  },
  {
   "cell_type": "code",
   "execution_count": 32,
   "metadata": {},
   "outputs": [],
   "source": [
    "def stepper(grid: Game_State, curr_energy: int, curr_moves: int) -> List[int]:\n",
    "    if curr_energy > MAX_ENERGY: return []\n",
    "    if curr_moves > MAX_MOVES: return []\n",
    "    if grid.complete_total(): return [curr_energy]\n",
    "    succs = []\n",
    "    pods = grid.pods\n",
    "    for i in range(len(pods)):\n",
    "        pod = pods[i]\n",
    "        start = (pod[0], pod[1])\n",
    "        flav = pod[2]\n",
    "        all_moves = get_spots(flav)\n",
    "        valid_moves = []\n",
    "        for move in all_moves:\n",
    "            if valid_end(move, flav, True if start[0] == 1 else False, grid) and valid_path(start, move, grid):\n",
    "                valid_moves.append(move)\n",
    "        \n",
    "        for v_move in valid_moves:\n",
    "            energy_cost = energy_calc(start, v_move, flav)\n",
    "            next_pods = pods.copy()\n",
    "            next_pods[i] = (move[0],  move[1], flav)\n",
    "            next_grid = Game_State(next_pods)\n",
    "            next_energy = curr_energy + energy_cost\n",
    "            succs.join(stepper(next_grid, next_energy, curr_moves + 1))\n",
    "    return succs\n"
   ]
  },
  {
   "cell_type": "code",
   "execution_count": null,
   "metadata": {},
   "outputs": [],
   "source": [
    "output = stepper(init_state, 0, 0)\n",
    "print(output)"
   ]
  }
 ],
 "metadata": {
  "interpreter": {
   "hash": "11938c6bc6919ae2720b4d5011047913343b08a43b18698fd82dedb0d4417594"
  },
  "kernelspec": {
   "display_name": "Python 3.9.6 64-bit",
   "language": "python",
   "name": "python3"
  },
  "language_info": {
   "codemirror_mode": {
    "name": "ipython",
    "version": 3
   },
   "file_extension": ".py",
   "mimetype": "text/x-python",
   "name": "python",
   "nbconvert_exporter": "python",
   "pygments_lexer": "ipython3",
   "version": "3.9.6"
  },
  "orig_nbformat": 4
 },
 "nbformat": 4,
 "nbformat_minor": 2
}
