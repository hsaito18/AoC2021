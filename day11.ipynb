{
 "cells": [
  {
   "cell_type": "code",
   "execution_count": 2,
   "metadata": {},
   "outputs": [],
   "source": [
    "with open('11a.txt') as f:\n",
    "    lines = f.readlines()\n",
    "\n",
    "lines = [line.strip() for line in lines]"
   ]
  },
  {
   "cell_type": "code",
   "execution_count": 12,
   "metadata": {},
   "outputs": [
    {
     "data": {
      "text/plain": [
       "str"
      ]
     },
     "execution_count": 12,
     "metadata": {},
     "output_type": "execute_result"
    }
   ],
   "source": [
    "type(lines[0])"
   ]
  },
  {
   "cell_type": "code",
   "execution_count": 35,
   "metadata": {},
   "outputs": [],
   "source": [
    "import numpy as np\n",
    "grid = np.zeros((10,10,2))\n",
    "for i in range(len(lines)):\n",
    "    line = list(lines[i])\n",
    "    for j in range(len(line)):\n",
    "        grid[i][j][0] = int(line[j])"
   ]
  },
  {
   "cell_type": "code",
   "execution_count": 42,
   "metadata": {},
   "outputs": [
    {
     "data": {
      "text/plain": [
       "array([[[5., 0.],\n",
       "        [5., 0.],\n",
       "        [4., 0.],\n",
       "        [9., 0.],\n",
       "        [7., 0.],\n",
       "        [3., 0.],\n",
       "        [5., 0.],\n",
       "        [3., 0.],\n",
       "        [7., 0.],\n",
       "        [3., 0.]],\n",
       "\n",
       "       [[7., 0.],\n",
       "        [3., 0.],\n",
       "        [7., 0.],\n",
       "        [4., 0.],\n",
       "        [3., 0.],\n",
       "        [6., 0.],\n",
       "        [2., 0.],\n",
       "        [9., 0.],\n",
       "        [7., 0.],\n",
       "        [5., 0.]],\n",
       "\n",
       "       [[3., 0.],\n",
       "        [7., 0.],\n",
       "        [2., 0.],\n",
       "        [9., 0.],\n",
       "        [9., 0.],\n",
       "        [2., 0.],\n",
       "        [3., 0.],\n",
       "        [5., 0.],\n",
       "        [4., 0.],\n",
       "        [5., 0.]],\n",
       "\n",
       "       [[3., 0.],\n",
       "        [2., 0.],\n",
       "        [4., 0.],\n",
       "        [5., 0.],\n",
       "        [3., 0.],\n",
       "        [7., 0.],\n",
       "        [5., 0.],\n",
       "        [6., 0.],\n",
       "        [7., 0.],\n",
       "        [6., 0.]],\n",
       "\n",
       "       [[2., 0.],\n",
       "        [9., 0.],\n",
       "        [2., 0.],\n",
       "        [6., 0.],\n",
       "        [2., 0.],\n",
       "        [4., 0.],\n",
       "        [2., 0.],\n",
       "        [3., 0.],\n",
       "        [5., 0.],\n",
       "        [8., 0.]],\n",
       "\n",
       "       [[3., 0.],\n",
       "        [7., 0.],\n",
       "        [2., 0.],\n",
       "        [3., 0.],\n",
       "        [5., 0.],\n",
       "        [6., 0.],\n",
       "        [8., 0.],\n",
       "        [4., 0.],\n",
       "        [3., 0.],\n",
       "        [6., 0.]],\n",
       "\n",
       "       [[9., 0.],\n",
       "        [6., 0.],\n",
       "        [9., 0.],\n",
       "        [6., 0.],\n",
       "        [8., 0.],\n",
       "        [7., 0.],\n",
       "        [8., 0.],\n",
       "        [6., 0.],\n",
       "        [9., 0.],\n",
       "        [5., 0.]],\n",
       "\n",
       "       [[8., 0.],\n",
       "        [3., 0.],\n",
       "        [2., 0.],\n",
       "        [8., 0.],\n",
       "        [2., 0.],\n",
       "        [4., 0.],\n",
       "        [5., 0.],\n",
       "        [6., 0.],\n",
       "        [6., 0.],\n",
       "        [7., 0.]],\n",
       "\n",
       "       [[3., 0.],\n",
       "        [9., 0.],\n",
       "        [3., 0.],\n",
       "        [6., 0.],\n",
       "        [5., 0.],\n",
       "        [6., 0.],\n",
       "        [7., 0.],\n",
       "        [6., 0.],\n",
       "        [7., 0.],\n",
       "        [4., 0.]],\n",
       "\n",
       "       [[9., 0.],\n",
       "        [3., 0.],\n",
       "        [5., 0.],\n",
       "        [9., 0.],\n",
       "        [5., 0.],\n",
       "        [8., 0.],\n",
       "        [4., 0.],\n",
       "        [6., 0.],\n",
       "        [9., 0.],\n",
       "        [5., 0.]]])"
      ]
     },
     "execution_count": 42,
     "metadata": {},
     "output_type": "execute_result"
    }
   ],
   "source": [
    "def step(grid):\n",
    "    output = grid.copy()\n",
    "    for row in output:\n",
    "        for char in row:\n",
    "            char[0] += 1\n",
    "\n",
    "    # FLASHING SECTION\n",
    "    for row in range(len(output)):\n",
    "        for col in range(len(output[row])):\n",
    "            if output[row][col][0] > 9:\n",
    "\n",
    "    return output\n",
    "\n"
   ]
  }
 ],
 "metadata": {
  "interpreter": {
   "hash": "ac59ebe37160ed0dfa835113d9b8498d9f09ceb179beaac4002f036b9467c963"
  },
  "kernelspec": {
   "display_name": "Python 3.9.6 64-bit",
   "language": "python",
   "name": "python3"
  },
  "language_info": {
   "codemirror_mode": {
    "name": "ipython",
    "version": 3
   },
   "file_extension": ".py",
   "mimetype": "text/x-python",
   "name": "python",
   "nbconvert_exporter": "python",
   "pygments_lexer": "ipython3",
   "version": "3.9.6"
  },
  "orig_nbformat": 4
 },
 "nbformat": 4,
 "nbformat_minor": 2
}
