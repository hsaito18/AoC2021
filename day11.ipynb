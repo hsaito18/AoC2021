{
 "cells": [
  {
   "cell_type": "code",
   "execution_count": 2,
   "metadata": {},
   "outputs": [],
   "source": [
    "with open('11a.txt') as f:\n",
    "    lines = f.readlines()\n",
    "\n",
    "lines = [line.strip() for line in lines]"
   ]
  },
  {
   "cell_type": "code",
   "execution_count": 3,
   "metadata": {},
   "outputs": [
    {
     "data": {
      "text/plain": [
       "str"
      ]
     },
     "execution_count": 3,
     "metadata": {},
     "output_type": "execute_result"
    }
   ],
   "source": [
    "type(lines[0])"
   ]
  },
  {
   "cell_type": "code",
   "execution_count": 8,
   "metadata": {},
   "outputs": [],
   "source": [
    "import numpy as np\n",
    "grid = np.zeros((10,10,2))\n",
    "for i in range(len(lines)):\n",
    "    line = list(lines[i])\n",
    "    for j in range(len(line)):\n",
    "        grid[i][j][0] = int(line[j])"
   ]
  },
  {
   "cell_type": "code",
   "execution_count": 9,
   "metadata": {},
   "outputs": [],
   "source": [
    "def flash(grid, row, col):\n",
    "    out_grid = grid.copy()\n",
    "    for r in range(row-1, row+2):\n",
    "        if r >= 0 and r < len(grid):\n",
    "            for c in range(col-1, col+2):\n",
    "                if c >= 0 and c < len(grid[r]) and (c != col or r != row):\n",
    "                    out_grid[r][c][0] += 1\n",
    "    out_grid[row][col][1] = 1\n",
    "    return out_grid"
   ]
  },
  {
   "cell_type": "code",
   "execution_count": 10,
   "metadata": {},
   "outputs": [
    {
     "ename": "IndentationError",
     "evalue": "expected an indented block (Temp/ipykernel_6968/647744669.py, line 12)",
     "output_type": "error",
     "traceback": [
      "\u001b[1;36m  File \u001b[1;32m\"C:\\Users\\hsait\\AppData\\Local\\Temp/ipykernel_6968/647744669.py\"\u001b[1;36m, line \u001b[1;32m12\u001b[0m\n\u001b[1;33m    return output\u001b[0m\n\u001b[1;37m    ^\u001b[0m\n\u001b[1;31mIndentationError\u001b[0m\u001b[1;31m:\u001b[0m expected an indented block\n"
     ]
    }
   ],
   "source": [
    "def step(grid):\n",
    "    output = grid.copy()\n",
    "    for row in output:\n",
    "        for char in row:\n",
    "            char[0] += 1\n",
    "\n",
    "    # FLASHING SECTION\n",
    "    for row in range(len(output)):\n",
    "        for col in range(len(output[row])):\n",
    "            if output[row][col][0] > 9:\n",
    "\n",
    "    return output"
   ]
  }
 ],
 "metadata": {
  "interpreter": {
   "hash": "ac59ebe37160ed0dfa835113d9b8498d9f09ceb179beaac4002f036b9467c963"
  },
  "kernelspec": {
   "display_name": "Python 3.9.6 64-bit",
   "language": "python",
   "name": "python3"
  },
  "language_info": {
   "codemirror_mode": {
    "name": "ipython",
    "version": 3
   },
   "file_extension": ".py",
   "mimetype": "text/x-python",
   "name": "python",
   "nbconvert_exporter": "python",
   "pygments_lexer": "ipython3",
   "version": "3.9.9"
  },
  "orig_nbformat": 4
 },
 "nbformat": 4,
 "nbformat_minor": 2
}
