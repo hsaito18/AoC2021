{
 "cells": [
  {
   "cell_type": "code",
   "execution_count": 53,
   "metadata": {},
   "outputs": [],
   "source": [
    "with open('11a.txt') as f:\n",
    "    lines = f.readlines()\n",
    "\n",
    "lines = [line.strip() for line in lines]"
   ]
  },
  {
   "cell_type": "code",
   "execution_count": 54,
   "metadata": {},
   "outputs": [
    {
     "data": {
      "text/plain": [
       "str"
      ]
     },
     "execution_count": 54,
     "metadata": {},
     "output_type": "execute_result"
    }
   ],
   "source": [
    "type(lines[0])"
   ]
  },
  {
   "cell_type": "code",
   "execution_count": 55,
   "metadata": {},
   "outputs": [],
   "source": [
    "import numpy as np\n",
    "grid = np.zeros((10,10,2))\n",
    "for i in range(len(lines)):\n",
    "    line = list(lines[i])\n",
    "    for j in range(len(line)):\n",
    "        grid[i][j][0] = int(line[j])"
   ]
  },
  {
   "cell_type": "code",
   "execution_count": 56,
   "metadata": {},
   "outputs": [],
   "source": [
    "def flash(grid, row, col):\n",
    "    out_grid = grid.copy()\n",
    "    for r in range(row-1, row+2):\n",
    "        if r >= 0 and r < len(grid):\n",
    "            for c in range(col-1, col+2):\n",
    "                if c >= 0 and c < len(grid[r]) and (c != col or r != row):\n",
    "                    out_grid[r][c][0] += 1\n",
    "    out_grid[row][col][1] = 1\n",
    "    return out_grid"
   ]
  },
  {
   "cell_type": "code",
   "execution_count": 57,
   "metadata": {},
   "outputs": [],
   "source": [
    "def step(grid):\n",
    "    counter = 0\n",
    "    output = grid.copy()\n",
    "    for row in output:\n",
    "        for char in row:\n",
    "            char[0] += 1\n",
    "\n",
    "    # FLASHING SECTION\n",
    "    flashed = True\n",
    "    while(flashed):\n",
    "        flashed = False\n",
    "        for row in range(len(output)):\n",
    "            for col in range(len(output[row])):\n",
    "                if output[row][col][0] > 9 and not output[row][col][1]:\n",
    "                    flashed = True\n",
    "                    output = flash(output,row,col)\n",
    "                    counter += 1\n",
    "    \n",
    "    for row in range(len(output)):\n",
    "        for col in range(len(output[row])):\n",
    "            if output[row][col][1]:\n",
    "                output[row][col][0] = 0  \n",
    "                output[row][col][1] = 0  \n",
    "    return output, counter"
   ]
  },
  {
   "cell_type": "markdown",
   "metadata": {},
   "source": [
    "### Part 1"
   ]
  },
  {
   "cell_type": "code",
   "execution_count": 58,
   "metadata": {},
   "outputs": [],
   "source": [
    "grid100 = grid.copy()\n",
    "num_flashes = 0\n",
    "\n",
    "for i in range(100):\n",
    "    grid100, inc_flashes = step(grid100)\n",
    "    num_flashes += inc_flashes"
   ]
  },
  {
   "cell_type": "code",
   "execution_count": 60,
   "metadata": {},
   "outputs": [
    {
     "name": "stdout",
     "output_type": "stream",
     "text": [
      "1640\n"
     ]
    }
   ],
   "source": [
    "print(num_flashes)"
   ]
  },
  {
   "cell_type": "markdown",
   "metadata": {},
   "source": [
    "### Part 2"
   ]
  },
  {
   "cell_type": "code",
   "execution_count": 61,
   "metadata": {},
   "outputs": [
    {
     "name": "stdout",
     "output_type": "stream",
     "text": [
      "312\n"
     ]
    }
   ],
   "source": [
    "p2_grid = grid.copy()\n",
    "done = False\n",
    "step_num = 0\n",
    "while not done:\n",
    "    step_num += 1\n",
    "    p2_grid, curr_flashes = step(p2_grid)\n",
    "    if curr_flashes == 100:\n",
    "        done = True\n",
    "        print(step_num)\n"
   ]
  }
 ],
 "metadata": {
  "interpreter": {
   "hash": "ac59ebe37160ed0dfa835113d9b8498d9f09ceb179beaac4002f036b9467c963"
  },
  "kernelspec": {
   "display_name": "Python 3.9.6 64-bit",
   "language": "python",
   "name": "python3"
  },
  "language_info": {
   "codemirror_mode": {
    "name": "ipython",
    "version": 3
   },
   "file_extension": ".py",
   "mimetype": "text/x-python",
   "name": "python",
   "nbconvert_exporter": "python",
   "pygments_lexer": "ipython3",
   "version": "3.9.6"
  },
  "orig_nbformat": 4
 },
 "nbformat": 4,
 "nbformat_minor": 2
}
