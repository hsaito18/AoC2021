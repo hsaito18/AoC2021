{
 "cells": [
  {
   "cell_type": "code",
   "execution_count": 2,
   "metadata": {},
   "outputs": [],
   "source": [
    "with open('12a.txt') as f:\n",
    "    lines = f.readlines()\n",
    "\n",
    "lines = [line.strip() for line in lines]"
   ]
  },
  {
   "cell_type": "code",
   "execution_count": 3,
   "metadata": {},
   "outputs": [],
   "source": [
    "class Cave:\n",
    "    # small cave: size = 0\n",
    "    # big cave: size = 1\n",
    "    \n",
    "    def __init__(self, name, size, cave=None):\n",
    "        self.name = name\n",
    "        self.size = size\n",
    "        self.connected = []\n",
    "        if not cave == None:\n",
    "            self.connected.append(cave)\n",
    "\n",
    "    def __eq__(self, other):\n",
    "        if not isinstance(other, Cave):\n",
    "            return NotImplemented\n",
    "        return self.name == other.name\n",
    "    \n",
    "    def __str__(self):\n",
    "        return self.name\n",
    "\n",
    "    def add_cave(self, other):\n",
    "        if other not in self.connected:\n",
    "            self.connected.append(other)"
   ]
  },
  {
   "cell_type": "markdown",
   "metadata": {},
   "source": [
    "Parsing input into list of Cave objects"
   ]
  },
  {
   "cell_type": "code",
   "execution_count": 6,
   "metadata": {},
   "outputs": [],
   "source": [
    "list_of_caves = []\n",
    "for line in lines:\n",
    "    caves = line.split('-')\n",
    "    cave1 = Cave(caves[0],caves[0].isupper())\n",
    "    cave1found = False\n",
    "    cave2 = Cave(caves[1],caves[1].isupper())\n",
    "    cave2found = False\n",
    "    if cave1 in list_of_caves:\n",
    "        idx = list_of_caves.index(cave1)\n",
    "        cave1 = list_of_caves[idx]\n",
    "        cave1found = True\n",
    "    if cave2 in list_of_caves:\n",
    "        idx = list_of_caves.index(cave2)\n",
    "        cave2 = list_of_caves[idx]\n",
    "        cave2found = True\n",
    "    cave1.add_cave(cave2)\n",
    "    cave2.add_cave(cave1)\n",
    "    if not cave1found:\n",
    "        list_of_caves.append(cave1)\n",
    "    if not cave2found:\n",
    "        list_of_caves.append(cave2)"
   ]
  },
  {
   "cell_type": "code",
   "execution_count": 12,
   "metadata": {},
   "outputs": [],
   "source": [
    "start_cave = next((x for x in list_of_caves if x.name == \"start\"), None)\n",
    "end_cave = next((x for x in list_of_caves if x.name == \"end\"), None)\n",
    "\n",
    "# make a list that keeps track of each path, and then for small caves, check if that cave is not in list first. terminate if dead end or END."
   ]
  },
  {
   "cell_type": "markdown",
   "metadata": {},
   "source": [
    "### Part 1"
   ]
  },
  {
   "cell_type": "code",
   "execution_count": 10,
   "metadata": {},
   "outputs": [],
   "source": [
    "def find_path(cave_list, prev_seen, curr_cave):\n",
    "    curr_seen = prev_seen.copy()\n",
    "    if curr_cave.name == \"end\": return 1\n",
    "    options = []\n",
    "    for cv in curr_cave.connected:\n",
    "        if not cv in prev_seen:\n",
    "            options.append(cv)\n",
    "        elif cv.size:\n",
    "            options.append(cv)\n",
    "    curr_seen.append(curr_cave)\n",
    "    return sum([find_path(cave_list, curr_seen, cave) for cave in options])"
   ]
  },
  {
   "cell_type": "code",
   "execution_count": 11,
   "metadata": {},
   "outputs": [
    {
     "name": "stdout",
     "output_type": "stream",
     "text": [
      "3708\n"
     ]
    }
   ],
   "source": [
    "print(find_path(list_of_caves, [], start_cave))"
   ]
  },
  {
   "cell_type": "markdown",
   "metadata": {},
   "source": [
    "### Part 2"
   ]
  },
  {
   "cell_type": "code",
   "execution_count": 16,
   "metadata": {},
   "outputs": [],
   "source": [
    "def find_path_2(cave_list, prev_seen, curr_cave, doubled):\n",
    "    curr_seen = prev_seen.copy()\n",
    "    if curr_cave.name == \"end\": return 1\n",
    "    options = []\n",
    "    doubled_options = []\n",
    "    for cv in curr_cave.connected:\n",
    "        if not cv in prev_seen:\n",
    "            options.append(cv)\n",
    "        elif cv.size:\n",
    "            options.append(cv)\n",
    "        elif cv.name != \"start\":\n",
    "            doubled_options.append(cv)\n",
    "    curr_seen.append(curr_cave)\n",
    "    if doubled:\n",
    "        return sum([find_path_2(cave_list, curr_seen, cave, True) for cave in options])\n",
    "    return sum([find_path_2(cave_list, curr_seen, cave, False) for cave in options]) + sum([find_path_2(cave_list, curr_seen, cave, True) for cave in doubled_options])"
   ]
  },
  {
   "cell_type": "code",
   "execution_count": 17,
   "metadata": {},
   "outputs": [
    {
     "name": "stdout",
     "output_type": "stream",
     "text": [
      "93858\n"
     ]
    }
   ],
   "source": [
    "print(find_path_2(list_of_caves, [], start_cave, False))\n",
    "# 108554 too high"
   ]
  }
 ],
 "metadata": {
  "interpreter": {
   "hash": "ac59ebe37160ed0dfa835113d9b8498d9f09ceb179beaac4002f036b9467c963"
  },
  "kernelspec": {
   "display_name": "Python 3.9.6 64-bit",
   "language": "python",
   "name": "python3"
  },
  "language_info": {
   "codemirror_mode": {
    "name": "ipython",
    "version": 3
   },
   "file_extension": ".py",
   "mimetype": "text/x-python",
   "name": "python",
   "nbconvert_exporter": "python",
   "pygments_lexer": "ipython3",
   "version": "3.9.6"
  },
  "orig_nbformat": 4
 },
 "nbformat": 4,
 "nbformat_minor": 2
}
