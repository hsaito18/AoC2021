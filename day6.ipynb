{
 "cells": [
  {
   "cell_type": "code",
   "execution_count": 30,
   "metadata": {},
   "outputs": [],
   "source": [
    "with open('6a.txt') as f:\n",
    "    lines = f.readlines()"
   ]
  },
  {
   "cell_type": "markdown",
   "metadata": {},
   "source": [
    "### Part 1"
   ]
  },
  {
   "cell_type": "code",
   "execution_count": 22,
   "metadata": {},
   "outputs": [
    {
     "name": "stdout",
     "output_type": "stream",
     "text": [
      "5934\n"
     ]
    }
   ],
   "source": [
    "import numpy as np\n",
    "jellyfish = lines[0].split(',')\n",
    "jellyfish = [int(item) for item in jellyfish]\n",
    "\n",
    "N = 80\n",
    "\n",
    "for turn in range(N):\n",
    "    # print(turn)\n",
    "    for i in range(len(jellyfish)):\n",
    "        if jellyfish[i] == 0:\n",
    "            jellyfish.append(8)\n",
    "            jellyfish[i] = 6\n",
    "        else: jellyfish[i] -= 1\n",
    "\n",
    "print(len(jellyfish))"
   ]
  },
  {
   "cell_type": "markdown",
   "metadata": {},
   "source": [
    "### Part 2"
   ]
  },
  {
   "cell_type": "code",
   "execution_count": 31,
   "metadata": {},
   "outputs": [
    {
     "name": "stdout",
     "output_type": "stream",
     "text": [
      "1629570219571\n"
     ]
    }
   ],
   "source": [
    "# we need to optimize this code or it will genuinely take forever.\n",
    "# instead of looping through all fish, we can keep track of the number of fish in each state?\n",
    "\n",
    "from collections import deque\n",
    "\n",
    "num_of_fish = deque([0,0,0,0,0,0,0,0,0])\n",
    "jellyfish = lines[0].split(',')\n",
    "jellyfish = [int(item) for item in jellyfish]\n",
    "\n",
    "for j in jellyfish:\n",
    "    num_of_fish[j] += 1\n",
    "\n",
    "N = 256\n",
    "\n",
    "for sugma in range(N):\n",
    "    num_mom = num_of_fish[0]\n",
    "    num_of_fish.rotate(-1)\n",
    "    num_of_fish[6] += num_mom\n",
    "\n",
    "total_num_fish = sum(num_of_fish)\n",
    "print(total_num_fish)\n"
   ]
  }
 ],
 "metadata": {
  "interpreter": {
   "hash": "ac59ebe37160ed0dfa835113d9b8498d9f09ceb179beaac4002f036b9467c963"
  },
  "kernelspec": {
   "display_name": "Python 3.9.6 64-bit",
   "language": "python",
   "name": "python3"
  },
  "language_info": {
   "codemirror_mode": {
    "name": "ipython",
    "version": 3
   },
   "file_extension": ".py",
   "mimetype": "text/x-python",
   "name": "python",
   "nbconvert_exporter": "python",
   "pygments_lexer": "ipython3",
   "version": "3.9.6"
  },
  "orig_nbformat": 4
 },
 "nbformat": 4,
 "nbformat_minor": 2
}
