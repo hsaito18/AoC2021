{
 "cells": [
  {
   "cell_type": "code",
   "execution_count": 1,
   "metadata": {},
   "outputs": [],
   "source": [
    "with open('4a.txt') as f:\n",
    "    lines = f.readlines()"
   ]
  },
  {
   "cell_type": "markdown",
   "metadata": {},
   "source": [
    "### Part 1"
   ]
  },
  {
   "cell_type": "code",
   "execution_count": 139,
   "metadata": {},
   "outputs": [],
   "source": [
    "import numpy as np\n",
    "\n",
    "moves = np.array(lines[0].split(','), dtype=np.int64)\n",
    "\n",
    "# (i, i+5) i += 6\n",
    "i = 2\n",
    "idx = 0\n",
    "boards = []\n",
    "while (i < len(lines)):\n",
    "    board = np.zeros((5,5,2))\n",
    "    for row in range(i,i+5):\n",
    "        curr_row = lines[row].split()\n",
    "        for col in range(0,5):\n",
    "            board[row-i][col][0] = int(curr_row[col])\n",
    "            board[row-i][col][1] = 0 \n",
    "    board = board.astype(np.int64)\n",
    "    boards.append(board)\n",
    "    i += 6\n",
    "    idx += 1\n"
   ]
  },
  {
   "cell_type": "code",
   "execution_count": 216,
   "metadata": {},
   "outputs": [],
   "source": [
    "def checkBoard(board):\n",
    "    check = False\n",
    "    for row in range(0,6):\n",
    "        if check: return True\n",
    "        check = True\n",
    "        if row == 5: break\n",
    "        for col in range(0,5):\n",
    "            if board[row][col][1] == 0:\n",
    "                check = False\n",
    "                break\n",
    "    check = False\n",
    "    for col in range(0,6):\n",
    "        if check: return True\n",
    "        check = True\n",
    "        if col == 5: break\n",
    "        for row in range(0,5):\n",
    "            if board[row][col][1] == 0:\n",
    "                check = False\n",
    "                break\n",
    "    return False"
   ]
  },
  {
   "cell_type": "code",
   "execution_count": 214,
   "metadata": {},
   "outputs": [],
   "source": [
    "def addNum(num, board):\n",
    "    boardCopy = board.copy()\n",
    "    for row in range(0,5):\n",
    "        for col in range(0,5):\n",
    "            if int(boardCopy[row][col][0]) == num:\n",
    "                boardCopy[row][col][1] = True\n",
    "    return boardCopy"
   ]
  },
  {
   "cell_type": "markdown",
   "metadata": {},
   "source": [
    "at this point we have boards as a list of all the boards, 3d array with row, col, and then val/check\n",
    "moves is a list of numbers to be added\n",
    "need to find which board ends first."
   ]
  },
  {
   "cell_type": "code",
   "execution_count": 212,
   "metadata": {},
   "outputs": [],
   "source": [
    "def findWinner(moves,boards):\n",
    "    boardsCopy = boards.copy()\n",
    "    for num in moves:\n",
    "        for i in range(len(boards)):\n",
    "            boardsCopy[i] = addNum(num,boardsCopy[i])\n",
    "            if checkBoard(boardsCopy[i]): return boardsCopy[i], num"
   ]
  },
  {
   "cell_type": "code",
   "execution_count": 217,
   "metadata": {},
   "outputs": [
    {
     "name": "stdout",
     "output_type": "stream",
     "text": [
      "82440\n"
     ]
    }
   ],
   "source": [
    "winningBoard, winningNum = findWinner(moves,boards)\n",
    "finalSum = 0\n",
    "for row in range(0,5):\n",
    "    for col in range(0,5):\n",
    "       if not winningBoard[row][col][1]: finalSum += winningBoard[row][col][0]\n",
    "\n",
    "print(int(finalSum) * int(winningNum))\n",
    "\n",
    "## 95976 too high.\n"
   ]
  },
  {
   "cell_type": "markdown",
   "metadata": {},
   "source": [
    "### Part 2"
   ]
  },
  {
   "cell_type": "code",
   "execution_count": 240,
   "metadata": {},
   "outputs": [],
   "source": [
    "def findLoser(moves, boards):\n",
    "    boardsCopy = boards.copy()\n",
    "    mv_idx = 0\n",
    "    while(len(boardsCopy) > 1):\n",
    "        purgeList = []\n",
    "        for i in range(len(boardsCopy)):\n",
    "            num = moves[mv_idx]\n",
    "            boardsCopy[i] = addNum(num,boardsCopy[i])\n",
    "            if checkBoard(boardsCopy[i]): \n",
    "                purgeList.append(i)\n",
    "        counter = 0\n",
    "        for deli in purgeList:\n",
    "            if not checkBoard(boardsCopy[deli-counter]):\n",
    "                print(\"wtf\")\n",
    "            del boardsCopy[deli-counter]\n",
    "            counter += 1\n",
    "        mv_idx += 1\n",
    "        # print(len(boardsCopy))\n",
    "    loserBoard = boardsCopy[0]\n",
    "    while(not checkBoard(loserBoard)):\n",
    "        loserBoard = addNum(moves[mv_idx],loserBoard)\n",
    "        mv_idx += 1\n",
    "    return loserBoard, moves[mv_idx-1]"
   ]
  },
  {
   "cell_type": "code",
   "execution_count": 245,
   "metadata": {},
   "outputs": [
    {
     "name": "stdout",
     "output_type": "stream",
     "text": [
      "20774\n"
     ]
    }
   ],
   "source": [
    "loserBoard, loserNum = findLoser(moves,boards)\n",
    "finalSum = 0\n",
    "for row in range(0,5):\n",
    "    for col in range(0,5):\n",
    "       if not loserBoard[row][col][1]: finalSum += loserBoard[row][col][0]\n",
    "\n",
    "print(int(finalSum) * int(loserNum))\n",
    "# 2058 too low.\n",
    "# 1547 too low."
   ]
  }
 ],
 "metadata": {
  "interpreter": {
   "hash": "ac59ebe37160ed0dfa835113d9b8498d9f09ceb179beaac4002f036b9467c963"
  },
  "kernelspec": {
   "display_name": "Python 3.9.6 64-bit",
   "language": "python",
   "name": "python3"
  },
  "language_info": {
   "codemirror_mode": {
    "name": "ipython",
    "version": 3
   },
   "file_extension": ".py",
   "mimetype": "text/x-python",
   "name": "python",
   "nbconvert_exporter": "python",
   "pygments_lexer": "ipython3",
   "version": "3.9.6"
  },
  "orig_nbformat": 4
 },
 "nbformat": 4,
 "nbformat_minor": 2
}
