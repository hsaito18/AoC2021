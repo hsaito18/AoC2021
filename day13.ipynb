{
 "cells": [
  {
   "cell_type": "code",
   "execution_count": 37,
   "metadata": {},
   "outputs": [],
   "source": [
    "with open('13a.txt') as f:\n",
    "    lines = f.readlines()\n",
    "\n",
    "lines = [line.strip() for line in lines]"
   ]
  },
  {
   "cell_type": "code",
   "execution_count": 38,
   "metadata": {},
   "outputs": [],
   "source": [
    "# initial size is 895 rows x 1311 cols \n",
    "import numpy as np\n",
    "grid = np.zeros((895, 1311))\n",
    "folds = []\n",
    "for line in lines:\n",
    "    if len(line) == 0:\n",
    "        pass\n",
    "    elif line[0] != 'f':\n",
    "        col, row = line.split(',')\n",
    "        row = int(row)\n",
    "        col = int(col)\n",
    "        grid[row][col] = 1\n",
    "    else:\n",
    "        left, num = line.split('=')\n",
    "        coord = left[-1]\n",
    "        folds.append((coord, int(num)))"
   ]
  },
  {
   "cell_type": "markdown",
   "metadata": {},
   "source": [
    "### Part 1"
   ]
  },
  {
   "cell_type": "code",
   "execution_count": 39,
   "metadata": {},
   "outputs": [
    {
     "data": {
      "text/plain": [
       "1.0"
      ]
     },
     "execution_count": 39,
     "metadata": {},
     "output_type": "execute_result"
    }
   ],
   "source": [
    "grid[852][207]"
   ]
  },
  {
   "cell_type": "code",
   "execution_count": 44,
   "metadata": {},
   "outputs": [
    {
     "name": "stdout",
     "output_type": "stream",
     "text": [
      "638.0\n"
     ]
    }
   ],
   "source": [
    "coord, split = folds[0]\n",
    "deducer = 0\n",
    "for row in range(len(grid)):\n",
    "    for col in range(int((len(grid[row])-1)/2)):\n",
    "        if grid[row][col] == 1.0 and grid[row][len(grid[row])-1-col] == 1.0:\n",
    "            deducer += 1\n",
    "total = 0\n",
    "for row in range(len(grid)):\n",
    "    for col in range(len(grid[row])):\n",
    "        total += grid[row][col]\n",
    "\n",
    "print(total - deducer)"
   ]
  }
 ],
 "metadata": {
  "interpreter": {
   "hash": "ac59ebe37160ed0dfa835113d9b8498d9f09ceb179beaac4002f036b9467c963"
  },
  "kernelspec": {
   "display_name": "Python 3.9.6 64-bit",
   "language": "python",
   "name": "python3"
  },
  "language_info": {
   "codemirror_mode": {
    "name": "ipython",
    "version": 3
   },
   "file_extension": ".py",
   "mimetype": "text/x-python",
   "name": "python",
   "nbconvert_exporter": "python",
   "pygments_lexer": "ipython3",
   "version": "3.9.6"
  },
  "orig_nbformat": 4
 },
 "nbformat": 4,
 "nbformat_minor": 2
}
