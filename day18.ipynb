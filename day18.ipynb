{
 "cells": [
  {
   "cell_type": "code",
   "execution_count": 394,
   "metadata": {},
   "outputs": [],
   "source": [
    "with open('18a.txt') as f:\n",
    "    lines = f.readlines()\n",
    "\n",
    "lines = [line.strip() for line in lines]"
   ]
  },
  {
   "cell_type": "code",
   "execution_count": 395,
   "metadata": {},
   "outputs": [],
   "source": [
    "first = lines[0]\n",
    "# TODO: implement the split mechanism and then full reducing mechanism. then make addition and magnitude."
   ]
  },
  {
   "cell_type": "code",
   "execution_count": 396,
   "metadata": {},
   "outputs": [],
   "source": [
    "import math\n",
    "from typing import Tuple, List"
   ]
  },
  {
   "cell_type": "code",
   "execution_count": 397,
   "metadata": {},
   "outputs": [],
   "source": [
    "def string_exploder(s: str, left_idx: int) -> str:\n",
    "    ldd = False\n",
    "    rdd = False\n",
    "    near_left_dd = False\n",
    "    near_right_dd = False\n",
    "    if s[left_idx+1].isnumeric():\n",
    "        ldd = True\n",
    "    if ldd:\n",
    "        left_val = s[left_idx] + s[left_idx+1]\n",
    "    else:\n",
    "        left_val = s[left_idx]\n",
    "    right_val = s[left_idx+2+ldd]\n",
    "    if s[left_idx+3+ldd].isnumeric():\n",
    "        rdd = True\n",
    "    if rdd:\n",
    "        right_val = s[left_idx+2+ldd] + s[left_idx+3+ldd]\n",
    "    left_double_digits = False\n",
    "    for i in range(left_idx-1, 0, -1):\n",
    "        if s[i].isnumeric():\n",
    "            near_left_val = int(s[i])\n",
    "            if s[i-1].isnumeric():\n",
    "                near_left_dd = True\n",
    "                near_left_val = int(s[i-1]+s[i])\n",
    "                s = s[:i-1] + str(near_left_val + int(left_val)) + s[i+1:]\n",
    "                break\n",
    "            elif int(s[i]) + int(left_val) >= 10: left_double_digits = True\n",
    "            s = s[:i] + str(int(s[i]) + int(left_val)) + s[i+1:]\n",
    "            break\n",
    "    for j in range(left_idx+4+ldd+rdd, len(s)-1):\n",
    "        if s[j].isnumeric():\n",
    "            near_right_val = int(s[j])\n",
    "            # print(near_right_val)\n",
    "            if s[j+1].isnumeric():\n",
    "                near_right_val = int(s[j] + s[j+1])\n",
    "                s = s[:j] + str(near_right_val + int(right_val)) + s[j+2:]\n",
    "            # print(\"sj: \" + str(s[j]))\n",
    "            # print(\"right_val: \" + right_val)\n",
    "            else:\n",
    "                s = s[:j] + str(int(s[j]) + int(right_val)) + s[j+1:]\n",
    "            # print(int(s[j]) + int(right_val))\n",
    "            # print(\"oh yeah\")\n",
    "            break\n",
    "    s = s[:left_idx-1+left_double_digits] + '0' + s[left_idx+4+left_double_digits+ldd+rdd:]\n",
    "    return s"
   ]
  },
  {
   "cell_type": "code",
   "execution_count": 398,
   "metadata": {},
   "outputs": [],
   "source": [
    "def string_nest_search(s: str) -> Tuple[str, bool]:\n",
    "    # what if i do this all in string form?\n",
    "    bracket_counter = 0\n",
    "    for i in range(len(s)):\n",
    "        c = s[i]\n",
    "        if c == '[': bracket_counter += 1\n",
    "        elif c == ']': bracket_counter -= 1\n",
    "        elif c.isnumeric():\n",
    "            if bracket_counter > 4 and i + 3 < len(s) and s[i+1].isnumeric() and s[i+2] == ',' and s[i+3].isnumeric():\n",
    "                s = string_exploder(s, i)\n",
    "                return (s, True)\n",
    "            if bracket_counter > 4 and i + 2 < len(s) and s[i+1] == ',' and s[i+2].isnumeric():\n",
    "                # print(c)\n",
    "                # print(\"INDEX: \" + str(i))\n",
    "                s = string_exploder(s, i)\n",
    "                return (s, True)\n",
    "            \n",
    "    return (s, False)"
   ]
  },
  {
   "cell_type": "code",
   "execution_count": 399,
   "metadata": {},
   "outputs": [],
   "source": [
    "def string_splitter(s: str, left_idx: int) -> str:\n",
    "    num = int(s[left_idx:left_idx+2])\n",
    "    left_val = math.floor(num/2.0)\n",
    "    right_val = math.ceil(num/2.0)\n",
    "    s = s[:left_idx] + '[' + str(left_val) + ',' + str(right_val) + ']' + s[left_idx+2:]\n",
    "    return s\n"
   ]
  },
  {
   "cell_type": "code",
   "execution_count": 400,
   "metadata": {},
   "outputs": [],
   "source": [
    "def string_dd_search(s: str) -> Tuple[str, bool]:\n",
    "    # search for numbers greater than or equal to 10\n",
    "    for i in range(len(s)-1):\n",
    "        if s[i].isnumeric() and s[i+1].isnumeric():\n",
    "            s = string_splitter(s,i)\n",
    "            return (s, True)\n",
    "    return (s, False)"
   ]
  },
  {
   "cell_type": "code",
   "execution_count": 401,
   "metadata": {},
   "outputs": [],
   "source": [
    "def add(s1: str, s2: str) -> str:\n",
    "    return '[' + s1 + ',' + s2 + ']'"
   ]
  },
  {
   "cell_type": "code",
   "execution_count": 402,
   "metadata": {},
   "outputs": [],
   "source": [
    "def reducer(s: str) -> str:\n",
    "    done = False\n",
    "    while not done:\n",
    "        # print(s)\n",
    "        s, change = string_nest_search(s)\n",
    "        if not change:\n",
    "            s, change = string_dd_search(s)\n",
    "        if not change: done = True\n",
    "    return s"
   ]
  },
  {
   "cell_type": "code",
   "execution_count": 403,
   "metadata": {},
   "outputs": [],
   "source": [
    "def add_and_reduce(nums: List[str]) -> str:\n",
    "    final_num = nums[0]\n",
    "    for i in range(1, len(nums)):\n",
    "        # print(final_num)\n",
    "        final_num = add(final_num, nums[i])\n",
    "        # print(final_num)\n",
    "        final_num = reducer(final_num)\n",
    "        # print(final_num)\n",
    "    return final_num"
   ]
  },
  {
   "cell_type": "code",
   "execution_count": 404,
   "metadata": {},
   "outputs": [],
   "source": [
    "class Pair:\n",
    "\n",
    "    def __init__(self, left_val, right_val, depth, final_idx):\n",
    "        self.left_val = left_val\n",
    "        self.right_val = right_val\n",
    "        self.depth = depth\n",
    "        self.final_idx = final_idx\n",
    "        self.literal = False\n",
    "        if isinstance(self.left_val, int) and isinstance(self.right_val, int): self.literal = True\n",
    "    \n",
    "    def __str__(self):\n",
    "        return \"[\" + str(self.left_val) + \",\" + str(self.right_val) + \"]\"\n",
    "    \n",
    "    def get_magnitude(self):\n",
    "        if isinstance(self.left_val,int): l_raw_mag = self.left_val\n",
    "        else: l_raw_mag = self.left_val.get_magnitude()\n",
    "        if isinstance(self.right_val, int): r_raw_mag = self.right_val\n",
    "        else: r_raw_mag = self.right_val.get_magnitude()\n",
    "        return 3 * l_raw_mag + 2 * r_raw_mag"
   ]
  },
  {
   "cell_type": "code",
   "execution_count": 405,
   "metadata": {},
   "outputs": [],
   "source": [
    "def parse_string(s: str, d: int):\n",
    "    # return the pair it represents and the index where it ends.\n",
    "    if s[0] != '[': print('ps[0]: ' + s[0])\n",
    "    # print(s[1])\n",
    "    if s[1].isnumeric():\n",
    "        # print(\"left val: \" + s[1])\n",
    "        left_val = int(s[1])\n",
    "        right_idx = 3\n",
    "    else:\n",
    "        left_val, right_idx = parse_string(s[1:], d+1)\n",
    "        right_idx += 3\n",
    "    if s[right_idx].isnumeric():\n",
    "        # print(\"right val: \" + s[right_idx])\n",
    "        right_val = int(s[right_idx])\n",
    "        final_idx = right_idx\n",
    "    else:\n",
    "        right_val, final_idx = parse_string(s[right_idx:], d+1)\n",
    "        final_idx += right_idx\n",
    "    pair = Pair(left_val, right_val, d, final_idx)\n",
    "    end_idx = final_idx + 1\n",
    "    return pair, end_idx\n",
    "    "
   ]
  },
  {
   "cell_type": "code",
   "execution_count": 406,
   "metadata": {},
   "outputs": [],
   "source": [
    "def magnitude(s: str) -> int:\n",
    "    outer_pair,_ = parse_string(s,0)\n",
    "    return outer_pair.get_magnitude()"
   ]
  },
  {
   "cell_type": "markdown",
   "metadata": {},
   "source": [
    "### Part 1"
   ]
  },
  {
   "cell_type": "code",
   "execution_count": 410,
   "metadata": {},
   "outputs": [
    {
     "name": "stdout",
     "output_type": "stream",
     "text": [
      "[[[[6,6],[7,7]],[[7,7],[7,7]]],[[[9,7],[6,8]],[[7,7],[0,8]]]]\n",
      "4184\n"
     ]
    }
   ],
   "source": [
    "final_str = add_and_reduce(lines)\n",
    "print(final_str)\n",
    "print(magnitude(final_str))"
   ]
  },
  {
   "cell_type": "markdown",
   "metadata": {},
   "source": [
    "### Part 2"
   ]
  },
  {
   "cell_type": "code",
   "execution_count": 413,
   "metadata": {},
   "outputs": [],
   "source": [
    "duos = []\n",
    "for i in range(len(lines)):\n",
    "    for j in range(len(lines)):\n",
    "        if i != j: duos.append([lines[i], lines[j]])"
   ]
  },
  {
   "cell_type": "code",
   "execution_count": 414,
   "metadata": {},
   "outputs": [
    {
     "name": "stdout",
     "output_type": "stream",
     "text": [
      "4731\n"
     ]
    }
   ],
   "source": [
    "max_mag = 0\n",
    "for duo in duos:\n",
    "    reduced_str = add_and_reduce(duo)\n",
    "    mag = magnitude(reduced_str)\n",
    "    if mag > max_mag: max_mag = mag\n",
    "print(max_mag)"
   ]
  }
 ],
 "metadata": {
  "interpreter": {
   "hash": "31f2aee4e71d21fbe5cf8b01ff0e069b9275f58929596ceb00d14d90e3e16cd6"
  },
  "kernelspec": {
   "display_name": "Python 3.8.9 64-bit",
   "language": "python",
   "name": "python3"
  },
  "language_info": {
   "codemirror_mode": {
    "name": "ipython",
    "version": 3
   },
   "file_extension": ".py",
   "mimetype": "text/x-python",
   "name": "python",
   "nbconvert_exporter": "python",
   "pygments_lexer": "ipython3",
   "version": "3.8.9"
  },
  "orig_nbformat": 4
 },
 "nbformat": 4,
 "nbformat_minor": 2
}
