{
 "cells": [
  {
   "cell_type": "code",
   "execution_count": 100,
   "metadata": {},
   "outputs": [],
   "source": [
    "with open('24a.txt') as f:\n",
    "    lines = f.readlines()"
   ]
  },
  {
   "cell_type": "code",
   "execution_count": 101,
   "metadata": {},
   "outputs": [],
   "source": [
    "process_length = 18\n",
    "a_ls = []\n",
    "b_ls = []\n",
    "for i in range(len(lines)):\n",
    "    if (i-5)%18 == 0:\n",
    "        a_ls.append(int(lines[i].split()[2]))\n",
    "    elif (i-15)%18 == 0:\n",
    "        b_ls.append(int(lines[i].split()[2]))"
   ]
  },
  {
   "cell_type": "code",
   "execution_count": 102,
   "metadata": {},
   "outputs": [
    {
     "name": "stdout",
     "output_type": "stream",
     "text": [
      "[10, 13, 12, -12, 11, -13, -9, -12, 14, -9, 15, 11, -16, -2]\n",
      "[5, 9, 4, 4, 10, 14, 14, 12, 14, 14, 5, 10, 8, 15]\n"
     ]
    }
   ],
   "source": [
    "print(a_ls)\n",
    "print(b_ls)"
   ]
  },
  {
   "cell_type": "markdown",
   "metadata": {},
   "source": [
    "I guess this is 95% just figuring out what the algorithm is. Essentially the 'MONAD code' repeats for each digit and carries over the z register. In each block of code, if the 'a' variable is positive, the z register gets divided by 26 and its as if we are pushing a digit on the stack. If the 'a' variable is negative, the z register pops a digit from the stack. We must make sure that the number being popped is equal to the manipulated x value such that the two 'eql' lines zero everything out."
   ]
  },
  {
   "cell_type": "code",
   "execution_count": 103,
   "metadata": {},
   "outputs": [],
   "source": [
    "def valid_num(model: int) -> int:\n",
    "    model_num = str(model)\n",
    "    if int(model_num[2]) + b_ls[2] + a_ls[3] != int(model_num[3]):\n",
    "        return 1\n",
    "    elif int(model_num[4]) + b_ls[4] + a_ls[5] != int(model_num[5]):\n",
    "        return 2\n",
    "    elif int(model_num[1]) + b_ls[1] + a_ls[6] != int(model_num[6]):\n",
    "        return 3\n",
    "    elif int(model_num[0]) + b_ls[0] + a_ls[7] != int(model_num[7]):\n",
    "        return 4\n",
    "    elif int(model_num[8]) + b_ls[8] + a_ls[9] != int(model_num[9]):\n",
    "        return 5\n",
    "    elif int(model_num[11]) + b_ls[11] + a_ls[12] != int(model_num[12]):\n",
    "        return 6\n",
    "    elif int(model_num[10]) + b_ls[10] + a_ls[13] != int(model_num[13]):\n",
    "        return 7\n",
    "    return 0"
   ]
  },
  {
   "cell_type": "markdown",
   "metadata": {},
   "source": [
    "### Part 1"
   ]
  },
  {
   "cell_type": "code",
   "execution_count": 104,
   "metadata": {},
   "outputs": [
    {
     "name": "stdout",
     "output_type": "stream",
     "text": [
      "99919692496939\n"
     ]
    }
   ],
   "source": [
    "finished = 0\n",
    "i = 99999999999999\n",
    "while not finished:\n",
    "    err_code = valid_num(i)\n",
    "    if err_code == 0:\n",
    "        print(i)\n",
    "        break\n",
    "    elif err_code == 1:\n",
    "        i -= 10000000000\n",
    "    elif err_code == 2:\n",
    "        i -= 100000000\n",
    "    elif err_code == 3:\n",
    "        i -= 10000000\n",
    "    elif err_code == 4:\n",
    "        i -= 1000000\n",
    "    elif err_code == 5:\n",
    "        i -= 10000\n",
    "    elif err_code == 6:\n",
    "        i -= 10\n",
    "    elif err_code == 7:\n",
    "        i -= 1"
   ]
  },
  {
   "cell_type": "markdown",
   "metadata": {},
   "source": [
    "### Part 2"
   ]
  },
  {
   "cell_type": "code",
   "execution_count": 105,
   "metadata": {},
   "outputs": [],
   "source": [
    "def stringify(number: int) -> str:\n",
    "    num_digits = len(str(number))\n",
    "    leading_zeros = '0' * (14-num_digits)\n",
    "    return leading_zeros + str(number)"
   ]
  },
  {
   "cell_type": "code",
   "execution_count": 106,
   "metadata": {},
   "outputs": [],
   "source": [
    "def valid_num2(model: int) -> int:\n",
    "    model_num = stringify(model)\n",
    "    zero_idx = model_num.find('0')\n",
    "    if zero_idx > 0: return zero_idx\n",
    "    if int(model_num[2]) + b_ls[2] + a_ls[3] != int(model_num[3]):\n",
    "        return 3\n",
    "    elif int(model_num[4]) + b_ls[4] + a_ls[5] != int(model_num[5]):\n",
    "        return 5\n",
    "    elif int(model_num[1]) + b_ls[1] + a_ls[6] != int(model_num[6]):\n",
    "        return 6\n",
    "    elif int(model_num[0]) + b_ls[0] + a_ls[7] != int(model_num[7]):\n",
    "        return 7\n",
    "    elif int(model_num[8]) + b_ls[8] + a_ls[9] != int(model_num[9]):\n",
    "        return 9\n",
    "    elif int(model_num[11]) + b_ls[11] + a_ls[12] != int(model_num[12]):\n",
    "        return 12\n",
    "    elif int(model_num[10]) + b_ls[10] + a_ls[13] != int(model_num[13]):\n",
    "        return 13\n",
    "    return -1"
   ]
  },
  {
   "cell_type": "code",
   "execution_count": 107,
   "metadata": {},
   "outputs": [
    {
     "name": "stdout",
     "output_type": "stream",
     "text": [
      "81914111161714\n"
     ]
    }
   ],
   "source": [
    "finished = 0\n",
    "i = 0\n",
    "while not finished:\n",
    "    err_code = valid_num2(i)\n",
    "    if err_code == -1:\n",
    "        print(i)\n",
    "        break\n",
    "    elif err_code == 0:\n",
    "        i += 10000000000000\n",
    "    elif err_code == 1:\n",
    "        i += 1000000000000\n",
    "    elif err_code == 2:\n",
    "        i += 100000000000 \n",
    "    elif err_code == 3:\n",
    "        i += 10000000000\n",
    "    elif err_code == 4:\n",
    "        i += 1000000000\n",
    "    elif err_code == 5:\n",
    "        i += 100000000\n",
    "    elif err_code == 6:\n",
    "        i += 10000000\n",
    "    elif err_code == 7:\n",
    "        i += 1000000\n",
    "    elif err_code == 8:\n",
    "        i += 100000\n",
    "    elif err_code == 9:\n",
    "        i += 10000\n",
    "    elif err_code == 10:\n",
    "        i += 1000\n",
    "    elif err_code == 11:\n",
    "        i += 100\n",
    "    elif err_code == 12:\n",
    "        i += 10\n",
    "    elif err_code == 13:\n",
    "        i += 1"
   ]
  }
 ],
 "metadata": {
  "interpreter": {
   "hash": "11938c6bc6919ae2720b4d5011047913343b08a43b18698fd82dedb0d4417594"
  },
  "kernelspec": {
   "display_name": "Python 3.9.6 64-bit",
   "language": "python",
   "name": "python3"
  },
  "language_info": {
   "codemirror_mode": {
    "name": "ipython",
    "version": 3
   },
   "file_extension": ".py",
   "mimetype": "text/x-python",
   "name": "python",
   "nbconvert_exporter": "python",
   "pygments_lexer": "ipython3",
   "version": "3.9.6"
  },
  "orig_nbformat": 4
 },
 "nbformat": 4,
 "nbformat_minor": 2
}
