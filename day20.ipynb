{
 "cells": [
  {
   "cell_type": "code",
   "execution_count": 289,
   "metadata": {},
   "outputs": [],
   "source": [
    "with open('20a.txt') as f:\n",
    "    lines = f.readlines()\n",
    "\n",
    "lines = [line.strip() for line in lines]"
   ]
  },
  {
   "cell_type": "code",
   "execution_count": 290,
   "metadata": {},
   "outputs": [],
   "source": [
    "import numpy as np"
   ]
  },
  {
   "cell_type": "code",
   "execution_count": 291,
   "metadata": {},
   "outputs": [],
   "source": [
    "size = len(lines[2])"
   ]
  },
  {
   "cell_type": "code",
   "execution_count": 292,
   "metadata": {},
   "outputs": [],
   "source": [
    "algo = lines[0]\n",
    "grid = [[0]*size for i in range(size)]\n",
    "for row in range(size):\n",
    "    for col in range(size):\n",
    "        grid[row][col] = lines[row+2][col]"
   ]
  },
  {
   "cell_type": "code",
   "execution_count": 293,
   "metadata": {},
   "outputs": [],
   "source": [
    "def scan_neighbours(grid, row, col) -> int:\n",
    "    binary_dict = {'#' : '1', '.': '0'}\n",
    "    binary_str = ''\n",
    "    for r in range(row-1, row+2):\n",
    "        for c in range(col-1, col+2):\n",
    "            n = binary_dict.get(grid[r][c])\n",
    "            binary_str += n\n",
    "    return int(binary_str,2)"
   ]
  },
  {
   "cell_type": "code",
   "execution_count": 294,
   "metadata": {},
   "outputs": [],
   "source": [
    "def expand_grid(grid,bg):\n",
    "    size = len(grid)\n",
    "    new_size = size + 6\n",
    "    new_grid = [[bg]*new_size for i in range(new_size)]\n",
    "    for row in range(size):\n",
    "        for col in range(size):\n",
    "            new_grid[row+3][col+3] = grid[row][col]\n",
    "    return new_grid"
   ]
  },
  {
   "cell_type": "code",
   "execution_count": 295,
   "metadata": {},
   "outputs": [],
   "source": [
    "def step(grid, bg):\n",
    "    size = len(grid)\n",
    "    new_size = size + 6\n",
    "    new_grid = expand_grid(grid,bg)\n",
    "    new_new_grid = [['.']*new_size for i in range(new_size)]\n",
    "    for r in range(new_size):\n",
    "        for c in range(new_size):\n",
    "            new_new_grid[r][c] = new_grid[r][c]\n",
    "    new_bg = algo[scan_neighbours(new_grid, 1,1)]\n",
    "    for c in range(new_size):\n",
    "        new_new_grid[0][c] = new_bg\n",
    "        new_new_grid[new_size-1][c] = new_bg\n",
    "    for r in range(new_size):\n",
    "        new_new_grid[r][0] = new_bg\n",
    "        new_new_grid[r][new_size-1] = new_bg\n",
    "    for row in range(1, new_size-1):\n",
    "        for col in range(1, new_size-1):\n",
    "            val = scan_neighbours(new_grid,row,col)\n",
    "            new_new_grid[row][col] = algo[val]\n",
    "    return new_new_grid\n"
   ]
  },
  {
   "cell_type": "code",
   "execution_count": 296,
   "metadata": {},
   "outputs": [],
   "source": [
    "def count_num_light(grid) -> int:\n",
    "    counter = 0\n",
    "    for r in range(len(grid)):\n",
    "        for c in range(len(grid)):\n",
    "            if grid[r][c] == '#':\n",
    "                counter += 1\n",
    "    return counter"
   ]
  },
  {
   "cell_type": "code",
   "execution_count": 297,
   "metadata": {},
   "outputs": [],
   "source": [
    "grid1 = step(grid,'.')\n",
    "grid2 = step(grid1,'#')"
   ]
  },
  {
   "cell_type": "code",
   "execution_count": 298,
   "metadata": {},
   "outputs": [
    {
     "data": {
      "text/plain": [
       "5425"
      ]
     },
     "execution_count": 298,
     "metadata": {},
     "output_type": "execute_result"
    }
   ],
   "source": [
    "count_num_light(grid2)\n",
    "# 6458 too high."
   ]
  },
  {
   "cell_type": "code",
   "execution_count": 299,
   "metadata": {},
   "outputs": [
    {
     "data": {
      "text/plain": [
       "14052"
      ]
     },
     "execution_count": 299,
     "metadata": {},
     "output_type": "execute_result"
    }
   ],
   "source": [
    "curr_grid = grid\n",
    "for i in range(50):\n",
    "    bg = '.' if i % 2 == 0 else '#'\n",
    "    curr_grid = step(curr_grid, bg)\n",
    "count_num_light(curr_grid)"
   ]
  }
 ],
 "metadata": {
  "interpreter": {
   "hash": "31f2aee4e71d21fbe5cf8b01ff0e069b9275f58929596ceb00d14d90e3e16cd6"
  },
  "kernelspec": {
   "display_name": "Python 3.8.9 64-bit",
   "language": "python",
   "name": "python3"
  },
  "language_info": {
   "codemirror_mode": {
    "name": "ipython",
    "version": 3
   },
   "file_extension": ".py",
   "mimetype": "text/x-python",
   "name": "python",
   "nbconvert_exporter": "python",
   "pygments_lexer": "ipython3",
   "version": "3.8.9"
  },
  "orig_nbformat": 4
 },
 "nbformat": 4,
 "nbformat_minor": 2
}
