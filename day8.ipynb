{
 "cells": [
  {
   "cell_type": "code",
   "execution_count": 99,
   "metadata": {},
   "outputs": [],
   "source": [
    "with open('8a.txt') as f:\n",
    "    lines = f.readlines()"
   ]
  },
  {
   "cell_type": "code",
   "execution_count": 107,
   "metadata": {},
   "outputs": [],
   "source": [
    "entry = []\n",
    "output_digits = []\n",
    "input_digits = []\n",
    "for i in range(len(lines)):\n",
    "    entry.append(lines[i].split())\n",
    "    output_digits.append(entry[i][-4:])\n",
    "    input_digits.append(entry[i][:10])\n",
    "\n",
    "# 0 -> 6 segments\n",
    "# 1 -> 2 segments\n",
    "# 2 -> 5 segments\n",
    "# 3 -> 5 segments\n",
    "# 4 -> 4 segments\n",
    "# 5 -> 5 segments\n",
    "# 6 -> 6 segments\n",
    "# 7 -> 3 segments\n",
    "# 8 -> 7 segments\n",
    "# 9 -> 6 segments\n",
    "\n",
    "# 2 segments -> 1\n",
    "# 3 segments -> 7\n",
    "# 4 segments -> 4\n",
    "# 5 segments -> 2,3,5\n",
    "# 6 segments -> 0,6,9\n",
    "# 7 segments -> 8\n",
    "\n",
    "# if 6seg and the 2 segments for 1 are both not there, then 6.\n",
    "# 'c' and 'f' are the 2 segs for '1'\n",
    "# can figure out 'a' by the only letter in 3seg that isnt in 2 seg.\n",
    "# there are 3 commons that happen in all 3 5segs. one of them is 'a', one exists in '4'. thats 'd'.\n",
    "# other is then 'g'\n",
    "# out of the 5segs, there will be a unique one. thats 'b' or 'e'\n",
    "# take the set of 'b' or 'e' and check the 6segs. only one of them will appear in all 6segs. thats the 'b'. other is 'e'\n",
    "# one of the 5 segs is gonna have 'a', 'b', 'd', and 'g' plus unknown that unknown is 'f'\n",
    "# other one that is in the 2seg is gonna be 'c'\n",
    "# remainder is 'e'\n",
    "\n"
   ]
  },
  {
   "cell_type": "markdown",
   "metadata": {},
   "source": [
    "### Part 1"
   ]
  },
  {
   "cell_type": "code",
   "execution_count": 11,
   "metadata": {},
   "outputs": [
    {
     "name": "stdout",
     "output_type": "stream",
     "text": [
      "543\n"
     ]
    }
   ],
   "source": [
    "sum = 0\n",
    "for output in output_digits:\n",
    "    for word in output:\n",
    "        if len(word) == 2 or len(word) == 4 or len(word) == 3 or len(word) == 7: sum += 1\n",
    "    \n",
    "print(sum)"
   ]
  },
  {
   "cell_type": "markdown",
   "metadata": {},
   "source": [
    "### Part 2"
   ]
  },
  {
   "cell_type": "code",
   "execution_count": 86,
   "metadata": {},
   "outputs": [],
   "source": [
    "def decode(word, A,B,C,D,E,F,G):\n",
    "    if len(word) == 2: return 1\n",
    "    elif len(word) == 3: return 7\n",
    "    elif len(word) == 4: return 4\n",
    "    elif len(word) == 5:\n",
    "        if (B in word): return 5\n",
    "        elif (F in word): return 3\n",
    "        else: return 2\n",
    "    elif len(word) == 6:\n",
    "        if D not in word: return 0\n",
    "        if C not in word: return 6\n",
    "        else: return 9\n",
    "    elif len(word) == 7: return 8\n",
    "    "
   ]
  },
  {
   "cell_type": "code",
   "execution_count": 66,
   "metadata": {},
   "outputs": [],
   "source": [
    "def finalDecode(output_words, A, B, C, D, E, F, G):\n",
    "    finalNum = 0\n",
    "    base = 1000\n",
    "    for word in output_words:\n",
    "        finalNum += decode(word, A,B,C,D,E,F,G) * base\n",
    "        base = base / 10\n",
    "    return finalNum"
   ]
  },
  {
   "cell_type": "code",
   "execution_count": 106,
   "metadata": {},
   "outputs": [
    {
     "name": "stdout",
     "output_type": "stream",
     "text": [
      "994266.0\n"
     ]
    }
   ],
   "source": [
    "total = 0\n",
    "\n",
    "for idx in range(len(input_digits)):\n",
    "    ipt = input_digits[idx]\n",
    "    two_seg = \"\"\n",
    "    three_seg = \"\"\n",
    "    four_seg = \"\"\n",
    "    five_seg = []\n",
    "    six_seg = []\n",
    "    seven_seg = \"\"\n",
    "    for word in ipt:\n",
    "        if len(word) == 2: two_seg = word\n",
    "        elif len(word) == 3: three_seg = word\n",
    "        elif len(word) == 4: four_seg = word\n",
    "        elif len(word) == 5: five_seg.append(word)\n",
    "        elif len(word) == 6: six_seg.append(word)\n",
    "        elif len(word) == 7: seven_seg = word\n",
    "\n",
    "    # finding 'a'\n",
    "    for i in range(3):\n",
    "        if three_seg[i] not in two_seg: A = three_seg[i]\n",
    "\n",
    "    # finding 'd' and 'g' and 'BE' \n",
    "    # common_five = []\n",
    "    BE = []\n",
    "\n",
    "    for i in range(5):\n",
    "        if five_seg[0][i] in five_seg[1] and five_seg[0][i] in five_seg[2]:\n",
    "            if five_seg[0][i] in four_seg and five_seg[0][i] != A: D = five_seg[0][i]\n",
    "            elif five_seg[0][i] != A: G = five_seg[0][i]\n",
    "        if five_seg[0][i] not in five_seg[1] and five_seg[0][i] not in five_seg[2]:\n",
    "            BE.append(five_seg[0][i])\n",
    "\n",
    "    for i in range(5):\n",
    "        if five_seg[1][i] not in five_seg[0] and five_seg[1][i] not in five_seg[2]:\n",
    "            BE.append(five_seg[1][i])\n",
    "\n",
    "    for i in range(5):\n",
    "        if five_seg[2][i] not in five_seg[0] and five_seg[2][i] not in five_seg[1]:\n",
    "            BE.append(five_seg[2][i])\n",
    "\n",
    "    for i in range(2):\n",
    "        if BE[i] in six_seg[0] and BE[i] in six_seg[1] and BE[i] in six_seg[2]: B = BE[i]\n",
    "        else: E = BE[i]\n",
    "\n",
    "\n",
    "    # finding F\n",
    "    for j in range(3):\n",
    "        if B in five_seg[j]:\n",
    "            for i in range(5):\n",
    "                if five_seg[j][i] != A and five_seg[j][i] != B and five_seg[j][i] != D and five_seg[j][i] != G:\n",
    "                    F = five_seg[j][i]\n",
    "\n",
    "    # finding C\n",
    "    for i in range(2):\n",
    "        if two_seg[i] != F: C = two_seg[i]\n",
    "\n",
    "    curr = finalDecode(output_digits[idx],A,B,C,D,E,F,G)\n",
    "    total += curr\n",
    "    \n",
    "print(total)\n",
    "# too high 1495413.0        \n",
    "# 999375 too high  "
   ]
  },
  {
   "cell_type": "code",
   "execution_count": 97,
   "metadata": {},
   "outputs": [
    {
     "name": "stdout",
     "output_type": "stream",
     "text": [
      "9361.0\n"
     ]
    }
   ],
   "source": [
    "ipt = input_digits[3]\n",
    "two_seg = \"\"\n",
    "three_seg = \"\"\n",
    "four_seg = \"\"\n",
    "five_seg = []\n",
    "six_seg = []\n",
    "seven_seg = \"\"\n",
    "for word in ipt:\n",
    "    if len(word) == 2: two_seg = word\n",
    "    elif len(word) == 3: three_seg = word\n",
    "    elif len(word) == 4: four_seg = word\n",
    "    elif len(word) == 5: five_seg.append(word)\n",
    "    elif len(word) == 6: six_seg.append(word)\n",
    "    elif len(word) == 7: seven_seg = word\n",
    "\n",
    "# finding 'a'\n",
    "for i in range(3):\n",
    "    if three_seg[i] not in two_seg: A = three_seg[i]\n",
    "\n",
    "# finding 'd' and 'g' and 'BE' \n",
    "# common_five = []\n",
    "BE = []\n",
    "\n",
    "for i in range(5):\n",
    "    if five_seg[0][i] in five_seg[1] and five_seg[0][i] in five_seg[2]:\n",
    "        if five_seg[0][i] in four_seg and five_seg[0][i] != A: D = five_seg[0][i]\n",
    "        elif five_seg[0][i] != A: G = five_seg[0][i]\n",
    "    if five_seg[0][i] not in five_seg[1] and five_seg[0][i] not in five_seg[2]:\n",
    "        BE.append(five_seg[0][i])\n",
    "\n",
    "for i in range(5):\n",
    "    if five_seg[1][i] not in five_seg[0] and five_seg[1][i] not in five_seg[2]:\n",
    "        BE.append(five_seg[1][i])\n",
    "\n",
    "for i in range(5):\n",
    "    if five_seg[2][i] not in five_seg[0] and five_seg[2][i] not in five_seg[1]:\n",
    "        BE.append(five_seg[2][i])\n",
    "\n",
    "for i in range(2):\n",
    "    if BE[i] in six_seg[0] and BE[i] in six_seg[1] and BE[i] in six_seg[2]: B = BE[i]\n",
    "    else: E = BE[i]\n",
    "\n",
    "\n",
    "# finding F\n",
    "for j in range(3):\n",
    "    if B in five_seg[j]:\n",
    "        for i in range(5):\n",
    "            if five_seg[j][i] != A and five_seg[j][i] != B and five_seg[j][i] != D and five_seg[j][i] != G:\n",
    "                F = five_seg[j][i]\n",
    "\n",
    "# finding C\n",
    "for i in range(2):\n",
    "    if two_seg[i] != F: C = two_seg[i]\n",
    "\n",
    "curr = finalDecode(output_digits[3],A,B,C,D,E,F,G)\n",
    "print(curr)"
   ]
  }
 ],
 "metadata": {
  "interpreter": {
   "hash": "ac59ebe37160ed0dfa835113d9b8498d9f09ceb179beaac4002f036b9467c963"
  },
  "kernelspec": {
   "display_name": "Python 3.9.6 64-bit",
   "language": "python",
   "name": "python3"
  },
  "language_info": {
   "codemirror_mode": {
    "name": "ipython",
    "version": 3
   },
   "file_extension": ".py",
   "mimetype": "text/x-python",
   "name": "python",
   "nbconvert_exporter": "python",
   "pygments_lexer": "ipython3",
   "version": "3.9.6"
  },
  "orig_nbformat": 4
 },
 "nbformat": 4,
 "nbformat_minor": 2
}
