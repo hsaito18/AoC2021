{
 "cells": [
  {
   "cell_type": "code",
   "execution_count": 479,
   "metadata": {},
   "outputs": [],
   "source": [
    "with open('16a.txt') as f:\n",
    "    lines = f.readlines()\n",
    "\n",
    "lines = [line.strip() for line in lines]"
   ]
  },
  {
   "cell_type": "code",
   "execution_count": 480,
   "metadata": {},
   "outputs": [],
   "source": [
    "def hex_to_bin(hex_in: str) -> str:\n",
    "    # d = bin(int(hex_in, 16))[2:]\n",
    "    # while len(d) < 4 * len(hex_in):\n",
    "    #     d = '0' + d\n",
    "    # return d\n",
    "    return format(int(hex_in.strip(), 16), f\"0{len(hex_in.strip()) * 4}b\")"
   ]
  },
  {
   "cell_type": "code",
   "execution_count": 481,
   "metadata": {},
   "outputs": [],
   "source": [
    "binary = hex_to_bin(lines[0])"
   ]
  },
  {
   "cell_type": "markdown",
   "metadata": {},
   "source": [
    "### Part 1"
   ]
  },
  {
   "cell_type": "code",
   "execution_count": 482,
   "metadata": {},
   "outputs": [],
   "source": [
    "# binary = hex_to_bin(\"C0015000016115A2E0802F182340\")"
   ]
  },
  {
   "cell_type": "code",
   "execution_count": 483,
   "metadata": {},
   "outputs": [],
   "source": [
    "def literal_decode(super_packet: str):\n",
    "    # return both the version number and the last index of the super_packet that contains the literal packet\n",
    "    # print(\"literal packet: \" + super_packet)\n",
    "    version = int(super_packet[:3], 2)\n",
    "    done = False\n",
    "    i = 6\n",
    "    value = \"\"\n",
    "    while not done:\n",
    "        value = value + super_packet[i+1:i+5]\n",
    "        # print(super_packet[i:i+5])\n",
    "        if super_packet[i] == '0':\n",
    "            done = True\n",
    "            # print('done literal.')\n",
    "        i += 5\n",
    "    return (i-1, version)\n"
   ]
  },
  {
   "cell_type": "code",
   "execution_count": 484,
   "metadata": {},
   "outputs": [],
   "source": [
    "def operator_decode(super_packet: str):\n",
    "    # print(\"operator!\")\n",
    "    # print(\"operator packet: \" + super_packet)\n",
    "    # super packet is a binary string that represents all of the remaining binary\n",
    "    # where literally all of it technically could be this operator packet\n",
    "    version = int(super_packet[:3],2)\n",
    "    sub_version_sum = 0\n",
    "    packet_id = int(super_packet[3:6],2)\n",
    "    if packet_id == 4: print(\"treated literal as operator oops :(\")\n",
    "    length_type = super_packet[6]\n",
    "    if length_type == '1':\n",
    "        # print(\"ltype_id = 1\")\n",
    "        num_sub_packs = int(super_packet[7:18],2)\n",
    "        counter = 0\n",
    "        init_index = 18\n",
    "        index = init_index\n",
    "        while (counter < num_sub_packs):\n",
    "            sub_packet_type = int(super_packet[index+3:index+6],2)\n",
    "            if sub_packet_type != 4:\n",
    "                # operator\n",
    "                new_index, new_version = operator_decode(super_packet[index:])\n",
    "                sub_version_sum += new_version\n",
    "                index += new_index\n",
    "                # print(\"index: \" + str(index))\n",
    "            else:\n",
    "                new_index, new_version = literal_decode(super_packet[index:])\n",
    "                sub_version_sum += new_version\n",
    "                index += 1 + new_index\n",
    "            counter += 1\n",
    "    else:\n",
    "        total_length = int(super_packet[7:22],2)\n",
    "        length_counter = 0\n",
    "        init_index = 22\n",
    "        index = init_index\n",
    "        while (length_counter < total_length):\n",
    "            sub_packet_type = int(super_packet[index+3:index+6],2)\n",
    "            # print(sub_packet_type)\n",
    "            if sub_packet_type != 4:\n",
    "                # operator\n",
    "                new_index, new_version = operator_decode(super_packet[index:])\n",
    "                sub_version_sum += new_version\n",
    "                length = new_index\n",
    "                index += length\n",
    "            else:\n",
    "                new_index, new_version = literal_decode(super_packet[index:])\n",
    "                sub_version_sum += new_version\n",
    "                # print(new_index)\n",
    "                length = new_index + 1\n",
    "                index += length\n",
    "            length_counter += length\n",
    "            # print(\"CURR LENGTH: \" + str(length) + \" LENGTH COUNTER: \" + str(length_counter))\n",
    "            # print(index)\n",
    "    return (index, sub_version_sum + version)\n"
   ]
  },
  {
   "cell_type": "code",
   "execution_count": 485,
   "metadata": {},
   "outputs": [
    {
     "name": "stdout",
     "output_type": "stream",
     "text": [
      "(5337, 893)\n"
     ]
    }
   ],
   "source": [
    "print(operator_decode(binary))"
   ]
  },
  {
   "cell_type": "code",
   "execution_count": 486,
   "metadata": {},
   "outputs": [],
   "source": [
    "# print(binary) #version outside op = 3\n",
    "# print(binary[18:]) \n",
    "# sub = binary[18:] #inside the outside op\\\n",
    "# # print(sub[:3]) # version of op 1  = 0\n",
    "# # print(sub[7:22]) # 22\n",
    "# lit1 = sub[22:]\n",
    "# print(\"lit1: \" + lit1) # lit1 version = 0\n",
    "# print(lit1[3:6]) # lit1 type = 4 (good)\n",
    "# print(lit1[6:11]) # block 1\n",
    "# lit2 = lit1[11:] \n",
    "# print(\"lit2: \" + lit2) # lit2 version = 5\n",
    "# print(lit2[6:11]) # end of operator 1\n",
    "# op2 = lit2[11:]\n",
    "# print(\"op2: \" + op2) # op2 version = 1, type = 0\n",
    "# print(op2[:7]) # op2 len type id = 1 -> next 11 bits are whatever\n",
    "# print()\n"
   ]
  },
  {
   "cell_type": "markdown",
   "metadata": {},
   "source": [
    "### Part 2"
   ]
  },
  {
   "cell_type": "code",
   "execution_count": 487,
   "metadata": {},
   "outputs": [],
   "source": [
    "def improved_literal_decode(super_packet: str):\n",
    "    # returns the index and the value\n",
    "    version = int(super_packet[:3], 2)\n",
    "    done = False\n",
    "    i = 6\n",
    "    value = \"\"\n",
    "    while not done:\n",
    "        value = value + super_packet[i+1:i+5]\n",
    "        # print(value)\n",
    "        # print(super_packet[i:i+5])\n",
    "        if super_packet[i] == '0':\n",
    "            done = True\n",
    "            # print('done literal.')\n",
    "        i += 5\n",
    "    dec_val = int(value, 2)\n",
    "    if dec_val < 0: print(\"wtf?!\")\n",
    "    return (i-1, dec_val)\n"
   ]
  },
  {
   "cell_type": "code",
   "execution_count": 488,
   "metadata": {},
   "outputs": [],
   "source": [
    "def improved_operator_decode(super_packet: str):\n",
    "    # 0 -> SUM\n",
    "    # 1 -> PRODUCT\n",
    "    # 2 -> MINIMUM\n",
    "    # 3 -> MAXIMUM\n",
    "    # 5 -> GREATER THAN\n",
    "    # 6 -> LESS THAN\n",
    "    # 7 -> EQUAL TO\n",
    "    packet_id = int(super_packet[3:6],2)\n",
    "    if packet_id == 4: print(\"treated literal as operator oops :(\")\n",
    "    length_type = super_packet[6]\n",
    "    values  = []\n",
    "    if length_type == '1':\n",
    "        # print(\"ltype_id = 1\")\n",
    "        num_sub_packs = int(super_packet[7:18],2)\n",
    "        counter = 0\n",
    "        init_index = 18\n",
    "        index = init_index\n",
    "        while (counter < num_sub_packs):\n",
    "            sub_packet_type = int(super_packet[index+3:index+6],2)\n",
    "            if sub_packet_type != 4:\n",
    "                # operator\n",
    "                new_index, value = improved_operator_decode(super_packet[index:])\n",
    "                index += new_index\n",
    "                values.append(value)\n",
    "                # print(\"index: \" + str(index))\n",
    "            else:\n",
    "                new_index, value = improved_literal_decode(super_packet[index:])\n",
    "                index += 1 + new_index\n",
    "                values.append(value)\n",
    "            counter += 1\n",
    "    else:\n",
    "        total_length = int(super_packet[7:22],2)\n",
    "        length_counter = 0\n",
    "        init_index = 22\n",
    "        index = init_index\n",
    "        while (length_counter < total_length):\n",
    "            sub_packet_type = int(super_packet[index+3:index+6],2)\n",
    "            # print(sub_packet_type)\n",
    "            if sub_packet_type != 4:\n",
    "                # operator\n",
    "                new_index, value = improved_operator_decode(super_packet[index:])\n",
    "                length = new_index\n",
    "                index += length\n",
    "                values.append(value)\n",
    "            else:\n",
    "                new_index, value = improved_literal_decode(super_packet[index:])\n",
    "                # print(new_index)\n",
    "                length = new_index + 1\n",
    "                index += length\n",
    "                values.append(value)\n",
    "            length_counter += length\n",
    "            # print(\"CURR LENGTH: \" + str(length) + \" LENGTH COUNTER: \" + str(length_counter))\n",
    "            # print(index)\n",
    "    if packet_id == 0:\n",
    "        final_val = sum(values)\n",
    "    elif packet_id == 1:\n",
    "        final_val = 1\n",
    "        for val in values:\n",
    "            final_val *= val\n",
    "    elif packet_id == 2:\n",
    "        final_val = min(values)\n",
    "    elif packet_id == 3:\n",
    "        final_val = max(values)\n",
    "    elif packet_id == 5:\n",
    "        if values[0] > values[1]: final_val = 1\n",
    "        else: final_val = 0\n",
    "    elif packet_id == 6:\n",
    "        if values[0] < values[1]: final_val = 1\n",
    "        else: final_val = 0\n",
    "    elif packet_id == 7:\n",
    "        if values[0] == values[1]: final_val = 1\n",
    "        else: final_val = 0\n",
    "    return (index,final_val)\n"
   ]
  },
  {
   "cell_type": "code",
   "execution_count": 489,
   "metadata": {},
   "outputs": [],
   "source": [
    "binary = hex_to_bin(lines[0])"
   ]
  },
  {
   "cell_type": "code",
   "execution_count": 491,
   "metadata": {},
   "outputs": [
    {
     "data": {
      "text/plain": [
       "(5337, 4358595186090)"
      ]
     },
     "execution_count": 491,
     "metadata": {},
     "output_type": "execute_result"
    }
   ],
   "source": [
    "improved_operator_decode(binary)"
   ]
  }
 ],
 "metadata": {
  "interpreter": {
   "hash": "31f2aee4e71d21fbe5cf8b01ff0e069b9275f58929596ceb00d14d90e3e16cd6"
  },
  "kernelspec": {
   "display_name": "Python 3.8.9 64-bit",
   "language": "python",
   "name": "python3"
  },
  "language_info": {
   "codemirror_mode": {
    "name": "ipython",
    "version": 3
   },
   "file_extension": ".py",
   "mimetype": "text/x-python",
   "name": "python",
   "nbconvert_exporter": "python",
   "pygments_lexer": "ipython3",
   "version": "3.8.9"
  },
  "orig_nbformat": 4
 },
 "nbformat": 4,
 "nbformat_minor": 2
}
