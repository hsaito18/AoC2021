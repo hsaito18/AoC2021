{
 "cells": [
  {
   "cell_type": "markdown",
   "metadata": {},
   "source": [
    "### Input Reading"
   ]
  },
  {
   "cell_type": "code",
   "execution_count": 2,
   "metadata": {},
   "outputs": [],
   "source": [
    "with open('2a.txt') as f:\n",
    "    lines = f.readlines()"
   ]
  },
  {
   "cell_type": "markdown",
   "metadata": {},
   "source": [
    "### Part 1"
   ]
  },
  {
   "cell_type": "code",
   "execution_count": 8,
   "metadata": {},
   "outputs": [
    {
     "name": "stdout",
     "output_type": "stream",
     "text": [
      "1813801\n"
     ]
    }
   ],
   "source": [
    "hor = 0\n",
    "dep = 0\n",
    "\n",
    "for i in range(len(lines)):\n",
    "    val = int(lines[i][-2])\n",
    "    if lines[i][0] == 'f':\n",
    "        hor += val\n",
    "    elif lines[i][0] == 'd':\n",
    "        dep += val\n",
    "    else:\n",
    "        dep -= val\n",
    "\n",
    "print(hor*dep)"
   ]
  },
  {
   "cell_type": "markdown",
   "metadata": {},
   "source": [
    "### Part 2"
   ]
  },
  {
   "cell_type": "code",
   "execution_count": 9,
   "metadata": {},
   "outputs": [
    {
     "name": "stdout",
     "output_type": "stream",
     "text": [
      "1960569556\n"
     ]
    }
   ],
   "source": [
    "hor = 0\n",
    "dep = 0\n",
    "aim = 0\n",
    "\n",
    "for i in range(len(lines)):\n",
    "    val = int(lines[i][-2])\n",
    "    if lines[i][0] == 'f':\n",
    "        hor += val\n",
    "        dep += val * aim\n",
    "    elif lines[i][0] == 'd':\n",
    "        aim += val\n",
    "    else:\n",
    "        aim -= val\n",
    "\n",
    "print(hor*dep)"
   ]
  }
 ],
 "metadata": {
  "interpreter": {
   "hash": "ac59ebe37160ed0dfa835113d9b8498d9f09ceb179beaac4002f036b9467c963"
  },
  "kernelspec": {
   "display_name": "Python 3.9.6 64-bit",
   "language": "python",
   "name": "python3"
  },
  "language_info": {
   "codemirror_mode": {
    "name": "ipython",
    "version": 3
   },
   "file_extension": ".py",
   "mimetype": "text/x-python",
   "name": "python",
   "nbconvert_exporter": "python",
   "pygments_lexer": "ipython3",
   "version": "3.9.6"
  },
  "orig_nbformat": 4
 },
 "nbformat": 4,
 "nbformat_minor": 2
}
